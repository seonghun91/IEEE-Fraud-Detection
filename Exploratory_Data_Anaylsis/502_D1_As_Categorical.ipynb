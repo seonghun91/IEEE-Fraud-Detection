{
 "cells": [
  {
   "cell_type": "markdown",
   "metadata": {},
   "source": [
    "<목적>   \n",
    "D1 관련 Feature 발굴을 통해 모델 점수 상승\n",
    "\n",
    "<추진 배경>  \n",
    "- 현재 D1은 카드 최초 결제일로 부터의 시간이라고 추정 중.\n",
    "- 발상을 바꾸어봐서, D1을 통해 최초 결제일을 구하고, 같은 최초 결제일과 Product들의 조합을 해주면\n",
    "  좀 더 세분화된 상품군으로 나눌 수 있지않을까?\n",
    "  \n",
    "<방법>  \n",
    "- timeblock 에서 D1값을 빼어 'account_make_Date_D1' 변수를 생성\n",
    "- account_make_Date_D1과 ProductCD를 조합하여 new_Product 변수 생성하고 이 변수가 다른 변수들의 조합을 feature로 추가\n",
    "\n",
    "<결과>\n",
    "- LB 0.947 -> LB 0.95로 상승"
   ]
  },
  {
   "cell_type": "code",
   "execution_count": null,
   "metadata": {},
   "outputs": [],
   "source": []
  }
 ],
 "metadata": {
  "kernelspec": {
   "display_name": "Python 3",
   "language": "python",
   "name": "python3"
  },
  "language_info": {
   "codemirror_mode": {
    "name": "ipython",
    "version": 3
   },
   "file_extension": ".py",
   "mimetype": "text/x-python",
   "name": "python",
   "nbconvert_exporter": "python",
   "pygments_lexer": "ipython3",
   "version": "3.6.2"
  }
 },
 "nbformat": 4,
 "nbformat_minor": 2
}
