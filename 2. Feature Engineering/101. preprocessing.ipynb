{
 "cells": [
  {
   "cell_type": "code",
   "execution_count": 1,
   "metadata": {},
   "outputs": [
    {
     "name": "stderr",
     "output_type": "stream",
     "text": [
      "/Users/jeong/anaconda3/envs/rpy/lib/python3.6/site-packages/lightgbm/__init__.py:46: UserWarning: Starting from version 2.2.1, the library file in distribution wheels for macOS is built by the Apple Clang (Xcode_8.3.3) compiler.\n",
      "This means that in case of installing LightGBM from PyPI via the ``pip install lightgbm`` command, you don't need to install the gcc compiler anymore.\n",
      "Instead of that, you need to install the OpenMP library, which is required for running LightGBM on the system with the Apple Clang compiler.\n",
      "You can install the OpenMP library by the following command: ``brew install libomp``.\n",
      "  \"You can install the OpenMP library by the following command: ``brew install libomp``.\", UserWarning)\n"
     ]
    }
   ],
   "source": [
    "import os\n",
    "\n",
    "import numpy as np\n",
    "import pandas as pd\n",
    "from sklearn import preprocessing\n",
    "import xgboost as xgb\n",
    "import lightgbm as lgb\n",
    "from sklearn.model_selection import StratifiedKFold, KFold, RepeatedKFold, GroupKFold, GridSearchCV, train_test_split, TimeSeriesSplit\n",
    "from sklearn import metrics\n",
    "from sklearn import linear_model\n",
    "from sklearn.preprocessing import LabelEncoder\n",
    "import gc\n",
    "import time"
   ]
  },
  {
   "cell_type": "code",
   "execution_count": 2,
   "metadata": {},
   "outputs": [],
   "source": [
    "train_transaction = pd.read_csv('../input/train_transaction.csv')\n",
    "test_transaction = pd.read_csv('../input/test_transaction.csv')\n",
    "\n",
    "train_identity = pd.read_csv('../input/train_identity.csv')\n",
    "test_identity = pd.read_csv('../input/test_identity.csv')\n",
    "sub = pd.read_csv('../input/sample_submission.csv')\n",
    "\n",
    "train = train_transaction.merge(train_identity, how='left', on = 'TransactionID')\n",
    "test = test_transaction.merge(test_identity, how='left', on = 'TransactionID')"
   ]
  },
  {
   "cell_type": "code",
   "execution_count": 3,
   "metadata": {},
   "outputs": [],
   "source": [
    "del train_identity, test_identity "
   ]
  },
  {
   "cell_type": "code",
   "execution_count": 15,
   "metadata": {},
   "outputs": [
    {
     "name": "stdout",
     "output_type": "stream",
     "text": [
      "(590540, 434)\n",
      "(506691, 433)\n"
     ]
    }
   ],
   "source": [
    "print(train.shape)\n",
    "print(test.shape)"
   ]
  },
  {
   "cell_type": "code",
   "execution_count": 21,
   "metadata": {},
   "outputs": [
    {
     "data": {
      "text/plain": [
       "array([ nan,   0.,   1.,   3.,   2.,   9.,  12.,   6.,   4.,  21.,   7.,\n",
       "         5.,  18.,  17.,  -1.,  11.,   8.,  10., -10.,  -8.,  40.,  13.,\n",
       "        19.,  -3.,  14.,  22.,  -4.,  15.,  23.,  24.,  -2.,  41.,  20.,\n",
       "        -5.,  31.,  50.,  -9.,  25.,  27.,  -7.,  33., -26., -11.,  26.,\n",
       "        32.,  42.,  29.,  -6.,  16., -21., -12., -16.,  28.,  34., -30.,\n",
       "        30.,  39., -28.,  38., -27.,  37., -13., -15., -14., -18.,  52.,\n",
       "        35., -17., -23., -25.,  48., -20., -31.,  36., -19.,  47., -34.,\n",
       "       -24.,  43.,  46.,  45.,  44., -33., -22., -29., -72., -37., -35.,\n",
       "       -44., -40., -32., -46., -38., -39.])"
      ]
     },
     "execution_count": 21,
     "metadata": {},
     "output_type": "execute_result"
    }
   ],
   "source": [
    "train['id_05'].unique()"
   ]
  },
  {
   "cell_type": "code",
   "execution_count": 25,
   "metadata": {},
   "outputs": [
    {
     "data": {
      "text/plain": [
       "[nan, 47.0, -46.0, 50.0, -40.0, -72.0, -39.0, -37.0]"
      ]
     },
     "execution_count": 25,
     "metadata": {},
     "output_type": "execute_result"
    }
   ],
   "source": [
    "# test 데이터에는 없는 값들 뽑기\n",
    "# unique값이 100 미만일때(categorical이라고 가정)\n",
    "a = list(set(train['id_05'].unique()) - set(test['id_05'].unique()))\n",
    "a"
   ]
  },
  {
   "cell_type": "code",
   "execution_count": 28,
   "metadata": {},
   "outputs": [],
   "source": [
    "a = [x for x in a if str(x) != 'nan']"
   ]
  },
  {
   "cell_type": "code",
   "execution_count": 29,
   "metadata": {},
   "outputs": [
    {
     "data": {
      "text/plain": [
       "[47.0, -46.0, 50.0, -40.0, -72.0, -39.0, -37.0]"
      ]
     },
     "execution_count": 29,
     "metadata": {},
     "output_type": "execute_result"
    }
   ],
   "source": [
    "a"
   ]
  },
  {
   "cell_type": "code",
   "execution_count": 31,
   "metadata": {},
   "outputs": [],
   "source": [
    "tr2 = train.loc[~train['id_05'].isin(a)]"
   ]
  },
  {
   "cell_type": "code",
   "execution_count": 32,
   "metadata": {},
   "outputs": [
    {
     "data": {
      "text/plain": [
       "(590524, 434)"
      ]
     },
     "execution_count": 32,
     "metadata": {},
     "output_type": "execute_result"
    }
   ],
   "source": [
    "tr2.shape"
   ]
  },
  {
   "cell_type": "code",
   "execution_count": 43,
   "metadata": {},
   "outputs": [],
   "source": [
    "tr2 = train"
   ]
  },
  {
   "cell_type": "code",
   "execution_count": 44,
   "metadata": {},
   "outputs": [],
   "source": [
    "for i in range(1, 10) :\n",
    "    col = 'id_0'+str(i)\n",
    "    if train[col].nunique() < 100 :\n",
    "        a = list(set(train[col].unique()) - set(test[col].unique()))\n",
    "        a = [x for x in a if str(x) != 'nan']\n",
    "        tr2 = tr2.loc[~tr2[col].isin(a)]"
   ]
  },
  {
   "cell_type": "code",
   "execution_count": 45,
   "metadata": {},
   "outputs": [
    {
     "name": "stdout",
     "output_type": "stream",
     "text": [
      "(590540, 434)\n",
      "(590423, 434)\n"
     ]
    }
   ],
   "source": [
    "print(train.shape)\n",
    "print(tr2.shape)"
   ]
  },
  {
   "cell_type": "code",
   "execution_count": 46,
   "metadata": {},
   "outputs": [],
   "source": [
    "for i in range(11, 39) :\n",
    "    col = 'id_'+str(i)\n",
    "    if train[col].nunique() < 100 :\n",
    "        a = list(set(train[col].unique()) - set(test[col].unique()))\n",
    "        a = [x for x in a if str(x) != 'nan']\n",
    "        tr2 = tr2.loc[~tr2[col].isin(a)]"
   ]
  },
  {
   "cell_type": "code",
   "execution_count": 47,
   "metadata": {},
   "outputs": [
    {
     "name": "stdout",
     "output_type": "stream",
     "text": [
      "(537419, 434)\n"
     ]
    }
   ],
   "source": [
    "print(tr2.shape)"
   ]
  },
  {
   "cell_type": "code",
   "execution_count": 48,
   "metadata": {},
   "outputs": [],
   "source": [
    "for i in range(1, 340) :\n",
    "    col = 'V'+str(i)\n",
    "    if train[col].nunique() < 100 :\n",
    "        a = list(set(train[col].unique()) - set(test[col].unique()))\n",
    "        a = [x for x in a if str(x) != 'nan']\n",
    "        tr2 = tr2.loc[~tr2[col].isin(a)]"
   ]
  },
  {
   "cell_type": "code",
   "execution_count": 49,
   "metadata": {},
   "outputs": [
    {
     "name": "stdout",
     "output_type": "stream",
     "text": [
      "(532734, 434)\n"
     ]
    }
   ],
   "source": [
    "print(tr2.shape)"
   ]
  },
  {
   "cell_type": "code",
   "execution_count": 50,
   "metadata": {},
   "outputs": [],
   "source": [
    "for i in range(1, 10) :\n",
    "    col = 'M'+str(i)\n",
    "    if train[col].nunique() < 100 :\n",
    "        a = list(set(train[col].unique()) - set(test[col].unique()))\n",
    "        a = [x for x in a if str(x) != 'nan']\n",
    "        tr2 = tr2.loc[~tr2[col].isin(a)]"
   ]
  },
  {
   "cell_type": "code",
   "execution_count": 51,
   "metadata": {},
   "outputs": [
    {
     "name": "stdout",
     "output_type": "stream",
     "text": [
      "(532734, 434)\n"
     ]
    }
   ],
   "source": [
    "print(tr2.shape)"
   ]
  },
  {
   "cell_type": "code",
   "execution_count": 52,
   "metadata": {},
   "outputs": [],
   "source": [
    "for i in range(1, 16) :\n",
    "    col = 'D'+str(i)\n",
    "    if train[col].nunique() < 100 :\n",
    "        a = list(set(train[col].unique()) - set(test[col].unique()))\n",
    "        a = [x for x in a if str(x) != 'nan']\n",
    "        tr2 = tr2.loc[~tr2[col].isin(a)]"
   ]
  },
  {
   "cell_type": "code",
   "execution_count": 53,
   "metadata": {},
   "outputs": [
    {
     "name": "stdout",
     "output_type": "stream",
     "text": [
      "(532734, 434)\n"
     ]
    }
   ],
   "source": [
    "print(tr2.shape)"
   ]
  },
  {
   "cell_type": "code",
   "execution_count": 54,
   "metadata": {},
   "outputs": [],
   "source": [
    "for i in range(1, 15) :\n",
    "    col = 'C'+str(i)\n",
    "    if train[col].nunique() < 100 :\n",
    "        a = list(set(train[col].unique()) - set(test[col].unique()))\n",
    "        a = [x for x in a if str(x) != 'nan']\n",
    "        tr2 = tr2.loc[~tr2[col].isin(a)]"
   ]
  },
  {
   "cell_type": "code",
   "execution_count": 55,
   "metadata": {},
   "outputs": [
    {
     "name": "stdout",
     "output_type": "stream",
     "text": [
      "(532732, 434)\n"
     ]
    }
   ],
   "source": [
    "print(tr2.shape)"
   ]
  },
  {
   "cell_type": "code",
   "execution_count": null,
   "metadata": {},
   "outputs": [],
   "source": []
  }
 ],
 "metadata": {
  "kernelspec": {
   "display_name": "Python 3",
   "language": "python",
   "name": "python3"
  },
  "language_info": {
   "codemirror_mode": {
    "name": "ipython",
    "version": 3
   },
   "file_extension": ".py",
   "mimetype": "text/x-python",
   "name": "python",
   "nbconvert_exporter": "python",
   "pygments_lexer": "ipython3",
   "version": "3.6.8"
  }
 },
 "nbformat": 4,
 "nbformat_minor": 2
}
