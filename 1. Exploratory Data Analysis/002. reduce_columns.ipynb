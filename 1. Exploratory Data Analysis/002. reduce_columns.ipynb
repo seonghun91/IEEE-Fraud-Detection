{
 "cells": [
  {
   "cell_type": "markdown",
   "metadata": {},
   "source": [
    "### 작성일 : 19/08/01\n",
    "### 목적 : 상관관계가 높거나, 불필요한 변수들을 제거"
   ]
  },
  {
   "cell_type": "code",
   "execution_count": 1,
   "metadata": {},
   "outputs": [
    {
     "name": "stderr",
     "output_type": "stream",
     "text": [
      "\n",
      "Attaching package: ‘dplyr’\n",
      "\n",
      "The following objects are masked from ‘package:data.table’:\n",
      "\n",
      "    between, first, last\n",
      "\n",
      "The following objects are masked from ‘package:stats’:\n",
      "\n",
      "    filter, lag\n",
      "\n",
      "The following objects are masked from ‘package:base’:\n",
      "\n",
      "    intersect, setdiff, setequal, union\n",
      "\n",
      "Loading required package: magrittr\n"
     ]
    }
   ],
   "source": [
    "library(data.table)\n",
    "library(ggplot2)\n",
    "library(dplyr)\n",
    "options(repr.plot.width = 5, repr.plot.height = 3)\n",
    "options(scipen = 100)\n",
    "library(ggpubr)"
   ]
  },
  {
   "cell_type": "code",
   "execution_count": 2,
   "metadata": {},
   "outputs": [],
   "source": [
    "tr <- fread(\"/Users/jeong/downloads/IEEE/input/train_transaction.csv\")\n",
    "te <- fread(\"/Users/jeong/downloads/IEEE/input/test_transaction.csv\")\n",
    "\n",
    "tr_id <- fread(\"/Users/jeong/downloads/IEEE/input/train_identity.csv\")\n",
    "te_id <- fread(\"/Users/jeong/downloads/IEEE/input/test_identity.csv\")"
   ]
  },
  {
   "cell_type": "code",
   "execution_count": 4,
   "metadata": {},
   "outputs": [
    {
     "data": {
      "text/plain": [
       " TransactionID         id_01             id_02            id_03       \n",
       " Min.   :2987004   Min.   :-100.00   Min.   :     1   Min.   :-13.00  \n",
       " 1st Qu.:3077142   1st Qu.: -10.00   1st Qu.: 67992   1st Qu.:  0.00  \n",
       " Median :3198818   Median :  -5.00   Median :125800   Median :  0.00  \n",
       " Mean   :3236329   Mean   : -10.17   Mean   :174717   Mean   :  0.06  \n",
       " 3rd Qu.:3392923   3rd Qu.:  -5.00   3rd Qu.:228749   3rd Qu.:  0.00  \n",
       " Max.   :3577534   Max.   :   0.00   Max.   :999595   Max.   : 10.00  \n",
       "                                     NA's   :3361     NA's   :77909   \n",
       "     id_04            id_05             id_06              id_07       \n",
       " Min.   :-28.00   Min.   :-72.000   Min.   :-100.000   Min.   :-46.00  \n",
       " 1st Qu.:  0.00   1st Qu.:  0.000   1st Qu.:  -6.000   1st Qu.:  5.00  \n",
       " Median :  0.00   Median :  0.000   Median :   0.000   Median : 14.00  \n",
       " Mean   : -0.06   Mean   :  1.616   Mean   :  -6.699   Mean   : 13.29  \n",
       " 3rd Qu.:  0.00   3rd Qu.:  1.000   3rd Qu.:   0.000   3rd Qu.: 22.00  \n",
       " Max.   :  0.00   Max.   : 52.000   Max.   :   0.000   Max.   : 61.00  \n",
       " NA's   :77909    NA's   :7368      NA's   :7368       NA's   :139078  \n",
       "     id_08            id_09            id_10            id_11       \n",
       " Min.   :-100.0   Min.   :-36.00   Min.   :-100.0   Min.   : 90.00  \n",
       " 1st Qu.: -48.0   1st Qu.:  0.00   1st Qu.:   0.0   1st Qu.:100.00  \n",
       " Median : -34.0   Median :  0.00   Median :   0.0   Median :100.00  \n",
       " Mean   : -38.6   Mean   :  0.09   Mean   :  -0.3   Mean   : 99.75  \n",
       " 3rd Qu.: -23.0   3rd Qu.:  0.00   3rd Qu.:   0.0   3rd Qu.:100.00  \n",
       " Max.   :   0.0   Max.   : 25.00   Max.   :   0.0   Max.   :100.00  \n",
       " NA's   :139078   NA's   :69307    NA's   :69307    NA's   :3255    \n",
       "    id_12               id_13           id_14           id_15          \n",
       " Length:144233      Min.   :10.00   Min.   :-660.0   Length:144233     \n",
       " Class :character   1st Qu.:49.00   1st Qu.:-360.0   Class :character  \n",
       " Mode  :character   Median :52.00   Median :-300.0   Mode  :character  \n",
       "                    Mean   :48.05   Mean   :-344.5                     \n",
       "                    3rd Qu.:52.00   3rd Qu.:-300.0                     \n",
       "                    Max.   :64.00   Max.   : 720.0                     \n",
       "                    NA's   :16913   NA's   :64189                      \n",
       "    id_16               id_17           id_18           id_19      \n",
       " Length:144233      Min.   :100.0   Min.   :10.00   Min.   :100.0  \n",
       " Class :character   1st Qu.:166.0   1st Qu.:13.00   1st Qu.:266.0  \n",
       " Mode  :character   Median :166.0   Median :15.00   Median :341.0  \n",
       "                    Mean   :189.5   Mean   :14.24   Mean   :353.1  \n",
       "                    3rd Qu.:225.0   3rd Qu.:15.00   3rd Qu.:427.0  \n",
       "                    Max.   :229.0   Max.   :29.00   Max.   :671.0  \n",
       "                    NA's   :4864    NA's   :99120   NA's   :4915   \n",
       "     id_20           id_21            id_22           id_23          \n",
       " Min.   :100.0   Min.   :100.0    Min.   :10       Length:144233     \n",
       " 1st Qu.:256.0   1st Qu.:252.0    1st Qu.:14       Class :character  \n",
       " Median :472.0   Median :252.0    Median :14       Mode  :character  \n",
       " Mean   :403.9   Mean   :368.3    Mean   :16                         \n",
       " 3rd Qu.:533.0   3rd Qu.:486.5    3rd Qu.:14                         \n",
       " Max.   :661.0   Max.   :854.0    Max.   :44                         \n",
       " NA's   :4972    NA's   :139074   NA's   :139064                     \n",
       "     id_24            id_25            id_26           id_27          \n",
       " Min.   :11.0     Min.   :100.0    Min.   :100.0    Length:144233     \n",
       " 1st Qu.:11.0     1st Qu.:321.0    1st Qu.:119.0    Class :character  \n",
       " Median :11.0     Median :321.0    Median :149.0    Mode  :character  \n",
       " Mean   :12.8     Mean   :329.6    Mean   :149.1                      \n",
       " 3rd Qu.:15.0     3rd Qu.:371.0    3rd Qu.:169.0                      \n",
       " Max.   :26.0     Max.   :548.0    Max.   :216.0                      \n",
       " NA's   :139486   NA's   :139101   NA's   :139070                     \n",
       "    id_28              id_29              id_30              id_31          \n",
       " Length:144233      Length:144233      Length:144233      Length:144233     \n",
       " Class :character   Class :character   Class :character   Class :character  \n",
       " Mode  :character   Mode  :character   Mode  :character   Mode  :character  \n",
       "                                                                            \n",
       "                                                                            \n",
       "                                                                            \n",
       "                                                                            \n",
       "     id_32          id_33              id_34              id_35          \n",
       " Min.   : 0.00   Length:144233      Length:144233      Length:144233     \n",
       " 1st Qu.:24.00   Class :character   Class :character   Class :character  \n",
       " Median :24.00   Mode  :character   Mode  :character   Mode  :character  \n",
       " Mean   :26.51                                                           \n",
       " 3rd Qu.:32.00                                                           \n",
       " Max.   :32.00                                                           \n",
       " NA's   :66647                                                           \n",
       "    id_36              id_37              id_38            DeviceType       \n",
       " Length:144233      Length:144233      Length:144233      Length:144233     \n",
       " Class :character   Class :character   Class :character   Class :character  \n",
       " Mode  :character   Mode  :character   Mode  :character   Mode  :character  \n",
       "                                                                            \n",
       "                                                                            \n",
       "                                                                            \n",
       "                                                                            \n",
       "  DeviceInfo       \n",
       " Length:144233     \n",
       " Class :character  \n",
       " Mode  :character  \n",
       "                   \n",
       "                   \n",
       "                   \n",
       "                   "
      ]
     },
     "metadata": {},
     "output_type": "display_data"
    },
    {
     "data": {
      "text/html": [
       "144233"
      ],
      "text/latex": [
       "144233"
      ],
      "text/markdown": [
       "144233"
      ],
      "text/plain": [
       "[1] 144233"
      ]
     },
     "metadata": {},
     "output_type": "display_data"
    }
   ],
   "source": [
    "summary(tr_id)\n",
    "nrow(tr_id)"
   ]
  },
  {
   "cell_type": "code",
   "execution_count": null,
   "metadata": {},
   "outputs": [],
   "source": []
  }
 ],
 "metadata": {
  "kernelspec": {
   "display_name": "R",
   "language": "R",
   "name": "ir"
  },
  "language_info": {
   "codemirror_mode": "r",
   "file_extension": ".r",
   "mimetype": "text/x-r-source",
   "name": "R",
   "pygments_lexer": "r",
   "version": "3.6.1"
  }
 },
 "nbformat": 4,
 "nbformat_minor": 2
}
