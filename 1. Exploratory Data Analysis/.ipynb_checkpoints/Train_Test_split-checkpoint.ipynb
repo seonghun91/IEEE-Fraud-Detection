{
 "cells": [
  {
   "cell_type": "code",
   "execution_count": 1,
   "metadata": {},
   "outputs": [],
   "source": [
    "from plotnine import *\n",
    "import os, gc, datetime, time\n",
    "import pandas as pd, numpy as np\n",
    "from tqdm import tqdm_notebook\n",
    "import warnings\n",
    "import matplotlib.pyplot as plt\n",
    "plt.rcParams['figure.figsize'] = [16, 8] # setting figure size\n",
    "warnings.filterwarnings(action='ignore')\n",
    "pd.set_option('max_columns', 500)\n",
    "pd.set_option('max_rows', 500)"
   ]
  },
  {
   "cell_type": "code",
   "execution_count": 2,
   "metadata": {},
   "outputs": [],
   "source": [
    "train_trans = pd.read_csv(\"/Users/jeong/downloads/IEEE/input/train_transaction.csv\")\n",
    "train_idf = pd.read_csv(\"/Users/jeong/downloads/IEEE/input/train_identity.csv\")\n",
    "\n",
    "test_trans = pd.read_csv(\"/Users/jeong/downloads/IEEE/input/test_transaction.csv\")\n",
    "test_idf = pd.read_csv(\"/Users/jeong/downloads/IEEE/input/test_identity.csv\")"
   ]
  },
  {
   "cell_type": "code",
   "execution_count": 5,
   "metadata": {},
   "outputs": [],
   "source": [
    "train = pd.merge(train_trans, train_idf, on = 'TransactionID', how = 'left')\n",
    "test = pd.merge(test_trans, test_idf, on = 'TransactionID', how = 'left')\n",
    "\n",
    "train['type'] = 'train'\n",
    "test['type'] = 'test'\n",
    "test['isFraud'] = -1\n",
    "\n",
    "#tt = pd.concat([train, test], axis = 1)\n",
    "#tt.shape\n",
    "\n",
    "del train_trans, train_idf, test_trans, test_idf"
   ]
  },
  {
   "cell_type": "code",
   "execution_count": 6,
   "metadata": {},
   "outputs": [],
   "source": [
    "del train, test"
   ]
  },
  {
   "cell_type": "code",
   "execution_count": null,
   "metadata": {},
   "outputs": [],
   "source": [
    "ex = tt[tt['id_31'].notnull()]"
   ]
  },
  {
   "cell_type": "code",
   "execution_count": null,
   "metadata": {},
   "outputs": [],
   "source": [
    "ex['id_31'].head(20)"
   ]
  }
 ],
 "metadata": {
  "kernelspec": {
   "display_name": "Python 3",
   "language": "python",
   "name": "python3"
  },
  "language_info": {
   "codemirror_mode": {
    "name": "ipython",
    "version": 3
   },
   "file_extension": ".py",
   "mimetype": "text/x-python",
   "name": "python",
   "nbconvert_exporter": "python",
   "pygments_lexer": "ipython3",
   "version": "3.7.3"
  }
 },
 "nbformat": 4,
 "nbformat_minor": 2
}
