{
 "cells": [
  {
   "cell_type": "code",
   "execution_count": 1,
   "metadata": {},
   "outputs": [
    {
     "name": "stderr",
     "output_type": "stream",
     "text": [
      "\n",
      "Attaching package: ‘dplyr’\n",
      "\n",
      "The following objects are masked from ‘package:data.table’:\n",
      "\n",
      "    between, first, last\n",
      "\n",
      "The following objects are masked from ‘package:stats’:\n",
      "\n",
      "    filter, lag\n",
      "\n",
      "The following objects are masked from ‘package:base’:\n",
      "\n",
      "    intersect, setdiff, setequal, union\n",
      "\n",
      "Loading required package: magrittr\n"
     ]
    }
   ],
   "source": [
    "library(data.table)\n",
    "library(ggplot2)\n",
    "library(dplyr)\n",
    "options(repr.plot.width = 5, repr.plot.height = 3)\n",
    "options(scipen = 100)\n",
    "library(ggpubr)"
   ]
  },
  {
   "cell_type": "code",
   "execution_count": 2,
   "metadata": {},
   "outputs": [],
   "source": [
    "tr <- fread(\"/Users/jeong/IEEE-Fraud-Detection/input/train_transaction.csv\")\n",
    "te <- fread(\"/Users/jeong/IEEE-Fraud-Detection/input/test_transaction.csv\")\n",
    "\n",
    "tr_id <- fread(\"/Users/jeong/IEEE-Fraud-Detection/input/train_identity.csv\")\n",
    "te_id <- fread(\"/Users/jeong/IEEE-Fraud-Detection/input/test_identity.csv\")"
   ]
  },
  {
   "cell_type": "code",
   "execution_count": 3,
   "metadata": {},
   "outputs": [],
   "source": [
    "tr <- merge(tr, tr_id, by = \"TransactionID\", all.x = TRUE)\n",
    "te <- merge(te, te_id, by = \"TransactionID\", all.x = TRUE)"
   ]
  },
  {
   "cell_type": "code",
   "execution_count": 4,
   "metadata": {},
   "outputs": [],
   "source": [
    "rm(tr_id, te_id)"
   ]
  },
  {
   "cell_type": "code",
   "execution_count": 27,
   "metadata": {},
   "outputs": [
    {
     "data": {
      "text/html": [
       "95"
      ],
      "text/latex": [
       "95"
      ],
      "text/markdown": [
       "95"
      ],
      "text/plain": [
       "[1] 95"
      ]
     },
     "metadata": {},
     "output_type": "display_data"
    },
    {
     "data": {
      "text/html": [
       "91"
      ],
      "text/latex": [
       "91"
      ],
      "text/markdown": [
       "91"
      ],
      "text/plain": [
       "[1] 91"
      ]
     },
     "metadata": {},
     "output_type": "display_data"
    }
   ],
   "source": [
    "n_distinct(tr$id_03)\n",
    "n_distinct(te$id_03)"
   ]
  },
  {
   "cell_type": "code",
   "execution_count": 1,
   "metadata": {},
   "outputs": [
    {
     "ename": "ERROR",
     "evalue": "Error in as.vector(x): 객체 'tr'를 찾을 수 없습니다\n",
     "output_type": "error",
     "traceback": [
      "Error in as.vector(x): 객체 'tr'를 찾을 수 없습니다\nTraceback:\n",
      "1. setdiff(tr$id_03, te$id_03)",
      "2. as.vector(x)"
     ]
    }
   ],
   "source": [
    "setdiff(tr$id_03, te$id_03)"
   ]
  },
  {
   "cell_type": "markdown",
   "metadata": {},
   "source": [
    "이와 같이 test data에는 없는 train data값들은 삭제할 것"
   ]
  }
 ],
 "metadata": {
  "kernelspec": {
   "display_name": "R",
   "language": "R",
   "name": "ir"
  },
  "language_info": {
   "codemirror_mode": "r",
   "file_extension": ".r",
   "mimetype": "text/x-r-source",
   "name": "R",
   "pygments_lexer": "r",
   "version": "3.6.1"
  }
 },
 "nbformat": 4,
 "nbformat_minor": 2
}
