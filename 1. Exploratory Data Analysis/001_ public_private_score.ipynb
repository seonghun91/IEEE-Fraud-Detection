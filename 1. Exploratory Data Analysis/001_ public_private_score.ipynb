{
 "cells": [
  {
   "cell_type": "markdown",
   "metadata": {},
   "source": [
    "### 작성일 : 19/08/01\n",
    "### 목적 : public/private score 체계 이해 및 validation 어떻게 잡을지 고민"
   ]
  },
  {
   "cell_type": "markdown",
   "metadata": {},
   "source": [
    "- Train/Test 데이터는 TransactionDT, 즉 시간대로 분리되어 있음(ex. Train:1일 에서 150일 , Test: 180 에서 400일)\n",
    "- Test set은 public 20%, private 80%로 구성되어 있음\n",
    "- lightgbm으로 baseline을 대충 만들어본 결과 'day'변수가 높은 feature importance에 있었고, 여기서 test set도\n",
    "  앞의 20%가 public, 뒤의 80%가 private dataset이라는 의심을 가짐\n",
    "  -> 예측값 중 뒤의 80% 데이터를 섞어서 제 재출한 결과 score가 동일함을 확인할 수 있었고, 따라서 public data는 앞선 20%, private data는 이후 80% 데이터라고 결론"
   ]
  },
  {
   "cell_type": "markdown",
   "metadata": {},
   "source": [
    "- **즉, 현재 leaderboard의 순위는 상당히 overfitting되어있을 가능성이 높다!(아니 overfitting되어있을 것이다..)**"
   ]
  },
  {
   "cell_type": "code",
   "execution_count": null,
   "metadata": {},
   "outputs": [],
   "source": []
  }
 ],
 "metadata": {
  "kernelspec": {
   "display_name": "R",
   "language": "R",
   "name": "ir"
  },
  "language_info": {
   "codemirror_mode": "r",
   "file_extension": ".r",
   "mimetype": "text/x-r-source",
   "name": "R",
   "pygments_lexer": "r",
   "version": "3.6.1"
  }
 },
 "nbformat": 4,
 "nbformat_minor": 2
}
