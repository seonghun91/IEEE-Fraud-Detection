{
 "cells": [
  {
   "cell_type": "raw",
   "metadata": {},
   "source": [
    "BaseLine IEEE Model-Copy15"
   ]
  },
  {
   "cell_type": "code",
   "execution_count": 1,
   "metadata": {},
   "outputs": [],
   "source": [
    "import numpy as np # linear algebra\n",
    "import pandas as pd # data processing, CSV file I/O (e.g. pd.read_csv)\n",
    "import scipy as sp\n",
    "from scipy import stats\n",
    "import matplotlib.pyplot as plt\n",
    "import seaborn as sns\n",
    "\n",
    "# Standard plotly imports\n",
    "#import plotly.plotly as py\n",
    "import plotly.graph_objs as go\n",
    "import plotly.tools as tls\n",
    "from plotly.offline import iplot, init_notebook_mode\n",
    "#import cufflinks\n",
    "#import cufflinks as cf\n",
    "import plotly.figure_factory as ff\n",
    "import gc\n",
    "from tqdm import tqdm_notebook"
   ]
  },
  {
   "cell_type": "code",
   "execution_count": 2,
   "metadata": {},
   "outputs": [],
   "source": [
    "## Function to reduce the DF size\n",
    "def reduce_mem_usage(df, verbose=True):\n",
    "    numerics = ['int16', 'int32', 'int64', 'float16', 'float32', 'float64']\n",
    "    start_mem = df.memory_usage().sum() / 1024**2    \n",
    "    for col in df.columns:\n",
    "        col_type = df[col].dtypes\n",
    "        if col_type in numerics:\n",
    "            c_min = df[col].min()\n",
    "            c_max = df[col].max()\n",
    "            if str(col_type)[:3] == 'int':\n",
    "                if c_min > np.iinfo(np.int8).min and c_max < np.iinfo(np.int8).max:\n",
    "                    df[col] = df[col].astype(np.int8)\n",
    "                elif c_min > np.iinfo(np.int16).min and c_max < np.iinfo(np.int16).max:\n",
    "                    df[col] = df[col].astype(np.int16)\n",
    "                elif c_min > np.iinfo(np.int32).min and c_max < np.iinfo(np.int32).max:\n",
    "                    df[col] = df[col].astype(np.int32)\n",
    "                elif c_min > np.iinfo(np.int64).min and c_max < np.iinfo(np.int64).max:\n",
    "                    df[col] = df[col].astype(np.int64)  \n",
    "            else:\n",
    "                if c_min > np.finfo(np.float16).min and c_max < np.finfo(np.float16).max:\n",
    "                    df[col] = df[col].astype(np.float16)\n",
    "                elif c_min > np.finfo(np.float32).min and c_max < np.finfo(np.float32).max:\n",
    "                    df[col] = df[col].astype(np.float32)\n",
    "                else:\n",
    "                    df[col] = df[col].astype(np.float64)    \n",
    "    end_mem = df.memory_usage().sum() / 1024**2\n",
    "    if verbose: print('Mem. usage decreased to {:5.2f} Mb ({:.1f}% reduction)'.format(end_mem, 100 * (start_mem - end_mem) / start_mem))\n",
    "    return df"
   ]
  },
  {
   "cell_type": "code",
   "execution_count": 3,
   "metadata": {},
   "outputs": [],
   "source": [
    "trans_cat_cols = [\"ProductCD\",\"card1\",\"card2\",\"card3\",\"card4\",\"card5\",\"card6\",\"addr1\",\"addr2\",\"P_emaildomain_bin\",\"P_emaildomain_suffix\",\n",
    "                   \"R_emaildomain_bin\",\"R_emaildomain_suffix\",\"M1\",\"M2\",\"M3\",\"M4\",\"M5\",\"M6\",\"M7\",\"M8\",\"M9\"]\n",
    "\n",
    "iden_cat_cols = [\"DeviceType\",\"DeviceInfo\",\"id_12\",\n",
    "                   \"id_13\",\"id_14\",\"id_15\",\"id_16\",\"id_17\",\"id_18\",\"id_19\",\"id_20\",\"id_21\",\"id_22\",\"id_23\",\"id_24\",\n",
    "                   \"id_25\",\"id_26\",\"id_27\",\"id_28\",\"id_29\",\"id_30\",\"id_31\",\"id_32\",\"id_33\",\"id_34\",\"id_35\",\"id_36\",\n",
    "                   \"id_37\",\"id_38\"]"
   ]
  },
  {
   "cell_type": "code",
   "execution_count": 4,
   "metadata": {},
   "outputs": [],
   "source": [
    "def transform_transaction_catcols(df1, df2):\n",
    "    for cat_col in tqdm_notebook( trans_cat_cols): \n",
    "        # Get the indices for NaN values\n",
    "        trn_null_ind = [ind for ind, val in enumerate(df1[cat_col].isnull().values) if val == True]\n",
    "        ts_null_ind = [ind for ind, val in enumerate(df2[cat_col].isnull().values) if val == True]\n",
    "        \n",
    "        uniq_train_cat_val , uniq_test_cat_val = set(df1[cat_col].dropna() ), set(df2[cat_col].dropna() )\n",
    "        common_cat_val = uniq_train_cat_val.intersection(uniq_test_cat_val)\n",
    "        df1.loc[ ~df1[cat_col].isin( common_cat_val), cat_col ] = -99999\n",
    "        df2.loc[ ~df2[cat_col].isin( common_cat_val), cat_col ] = -99999\n",
    "        \n",
    "        # Replace the value for orignal NaN values\n",
    "        df1.loc[df1.index.isin(trn_null_ind), cat_col] = np.NaN\n",
    "        df2.loc[df2.index.isin(ts_null_ind), cat_col] = np.NaN\n",
    "        \n",
    "    del uniq_train_cat_val, uniq_test_cat_val, common_cat_val; gc.collect()\n",
    "    \n",
    "    # Reduce the usage of memory\n",
    "    df1 = reduce_mem_usage(df1)\n",
    "    df2 = reduce_mem_usage(df2)\n",
    "    \n",
    "    return df1, df2\n",
    "\n",
    "def transform_identity_catcols(df1,df2):\n",
    "    for cat_col in tqdm_notebook( iden_cat_cols ): \n",
    "        \n",
    "        # Get the indices for NaN values\n",
    "        trn_null_ind = [ind for ind, val in enumerate(df1[cat_col].isnull().values) if val == True]\n",
    "        ts_null_ind = [ind for ind, val in enumerate(df2[cat_col].isnull().values) if val == True]\n",
    "        \n",
    "        uniq_train_cat_val , uniq_test_cat_val = set(df1[cat_col].dropna() ), set(df2[cat_col].dropna() )\n",
    "        common_cat_val = uniq_train_cat_val.intersection(uniq_test_cat_val)\n",
    "        df1.loc[ ~df1[cat_col].isin( common_cat_val), cat_col ] = -99999\n",
    "        df2.loc[ ~df2[cat_col].isin( common_cat_val), cat_col ] = -99999\n",
    "        \n",
    "        # Replace the value for orignal NaN values\n",
    "        df1.loc[df1.index.isin(trn_null_ind), cat_col] =  np.NaN\n",
    "        df2.loc[df2.index.isin(ts_null_ind), cat_col] =  np.NaN\n",
    "        \n",
    "        \n",
    "    del uniq_train_cat_val, uniq_test_cat_val, common_cat_val; gc.collect();\n",
    "    \n",
    "    # Reduce the usage of memory\n",
    "    df1 = reduce_mem_usage(df1)\n",
    "    df2 = reduce_mem_usage(df2)\n",
    "    \n",
    "    return df1, df2"
   ]
  },
  {
   "cell_type": "markdown",
   "metadata": {},
   "source": [
    "## 1. Preprocessing"
   ]
  },
  {
   "cell_type": "code",
   "execution_count": 5,
   "metadata": {},
   "outputs": [],
   "source": [
    "train_idf = pd.read_csv(\"./input/train_identity.csv\")\n",
    "train_trans = pd.read_csv(\"./input/train_transaction.csv\")\n",
    "\n",
    "test_idf = pd.read_csv(\"./input/test_identity.csv\")\n",
    "test_trans = pd.read_csv(\"./input/test_transaction.csv\")"
   ]
  },
  {
   "cell_type": "markdown",
   "metadata": {},
   "source": [
    "### Email Preprocessing "
   ]
  },
  {
   "cell_type": "code",
   "execution_count": 6,
   "metadata": {},
   "outputs": [],
   "source": [
    "# email preprocessing \n",
    "emails = {'gmail': 'google', 'att.net': 'att', 'twc.com': 'spectrum', 'scranton.edu': 'other', 'optonline.net': 'other', 'hotmail.co.uk': 'microsoft', 'comcast.net': 'other', 'yahoo.com.mx': 'yahoo', 'yahoo.fr': 'yahoo', 'yahoo.es': 'yahoo', 'charter.net': 'spectrum', 'live.com': 'microsoft', 'aim.com': 'aol', 'hotmail.de': 'microsoft', 'centurylink.net': 'centurylink', 'gmail.com': 'google', 'me.com': 'apple', 'earthlink.net': 'other', 'gmx.de': 'other', 'web.de': 'other', 'cfl.rr.com': 'other', 'hotmail.com': 'microsoft', 'protonmail.com': 'other', 'hotmail.fr': 'microsoft', 'windstream.net': 'other', 'outlook.es': 'microsoft', 'yahoo.co.jp': 'yahoo', 'yahoo.de': 'yahoo', 'servicios-ta.com': 'other', 'netzero.net': 'other', 'suddenlink.net': 'other', 'roadrunner.com': 'other', 'sc.rr.com': 'other', 'live.fr': 'microsoft', 'verizon.net': 'yahoo', 'msn.com': 'microsoft', 'q.com': 'centurylink', 'prodigy.net.mx': 'att', 'frontier.com': 'yahoo', 'anonymous.com': 'other', 'rocketmail.com': 'yahoo', 'sbcglobal.net': 'att', 'frontiernet.net': 'yahoo', 'ymail.com': 'yahoo', 'outlook.com': 'microsoft', 'mail.com': 'other', 'bellsouth.net': 'other', 'embarqmail.com': 'centurylink', 'cableone.net': 'other', 'hotmail.es': 'microsoft', 'mac.com': 'apple', 'yahoo.co.uk': 'yahoo', 'netzero.com': 'other', 'yahoo.com': 'yahoo', 'live.com.mx': 'microsoft', 'ptd.net': 'other', 'cox.net': 'other', 'aol.com': 'aol', 'juno.com': 'other', 'icloud.com': 'apple'}\n",
    "us_emails = ['gmail', 'net', 'edu']"
   ]
  },
  {
   "cell_type": "code",
   "execution_count": 7,
   "metadata": {},
   "outputs": [],
   "source": [
    "emaildomain = ['P_emaildomain', 'R_emaildomain']\n",
    "for c in emaildomain:\n",
    "    train_trans[c + '_bin'] = train_trans[c].map(emails)\n",
    "    test_trans[c + '_bin'] = test_trans[c].map(emails)\n",
    "    \n",
    "    train_trans[c + '_suffix'] = train_trans[c].map(lambda x: str(x).split('.')[-1])\n",
    "    test_trans[c + '_suffix'] = test_trans[c].map(lambda x: str(x).split('.')[-1])\n",
    "    \n",
    "    train_trans[c + '_suffix'] = train_trans[c + '_suffix'].map(lambda x: x if str(x) not in us_emails else 'us')\n",
    "    test_trans[c + '_suffix'] = test_trans[c + '_suffix'].map(lambda x: x if str(x) not in us_emails else 'us')"
   ]
  },
  {
   "cell_type": "markdown",
   "metadata": {},
   "source": [
    "## 2. Feature Engineering "
   ]
  },
  {
   "cell_type": "markdown",
   "metadata": {},
   "source": [
    "### Date"
   ]
  },
  {
   "cell_type": "code",
   "execution_count": 8,
   "metadata": {
    "scrolled": true
   },
   "outputs": [],
   "source": [
    "# timeblock으로 시간을 만드는 코드 \n",
    "import datetime \n",
    "\n",
    "start_date = datetime.datetime.strptime('2017.11.30', '%Y.%m.%d')\n",
    "train_trans['timeblock'] = train_trans['TransactionDT'].apply(lambda x: datetime.timedelta(seconds = x) + start_date ) \n",
    "test_trans['timeblock'] = test_trans['TransactionDT'].apply(lambda x: datetime.timedelta(seconds = x) + start_date ) \n",
    "\n",
    "tb = train_trans['timeblock']\n",
    "train_trans.drop('timeblock', 1, inplace=True)\n",
    "train_trans.insert(0, 'timeblock', tb)\n",
    "\n",
    "tb = test_trans['timeblock']\n",
    "test_trans.drop('timeblock', 1, inplace=True)\n",
    "test_trans.insert(0, 'timeblock', tb)\n",
    "\n",
    "# \"가입일로부터의 시간\"(D8)을 통해 \"가입일\"을 만드는 코드. \n",
    "def account_start_date(val):\n",
    "    if np.isnan(val) :\n",
    "        return np.NaN\n",
    "    else:\n",
    "        days=  int( str(val).split('.')[0])\n",
    "        return pd.Timedelta( str(days) +' days')\n",
    "    \n",
    "for i in ['D1', 'D3', 'D4', 'D5', 'D6', 'D7', 'D8', 'D11', 'D12', 'D14']:\n",
    "    train_trans['account_start_day'] = train_trans[i].apply(account_start_date)\n",
    "    test_trans['account_start_day'] = test_trans[i].apply(account_start_date)\n",
    "\n",
    "    # account_make_date 컴퓨터가 인식할 수 있도록 수치형으로 바꿔 줌. \n",
    "    train_trans['account_make_date'] = (train_trans['timeblock'] - train_trans['account_start_day']).dt.date\n",
    "    test_trans['account_make_date'] = (test_trans['timeblock'] - test_trans['account_start_day']).dt.date\n",
    "\n",
    "    train_trans['account_make_date_{}'.format(i)] = (10000 * pd.to_datetime(train_trans['account_make_date']).dt.year) + (100 * pd.to_datetime(train_trans['account_make_date']).dt.month) + (1 * pd.to_datetime(train_trans['account_make_date']).dt.day)\n",
    "    test_trans['account_make_date_{}'.format(i)] = (10000 * pd.to_datetime(test_trans['account_make_date']).dt.year) + (100 * pd.to_datetime(test_trans['account_make_date']).dt.month) + (1 * pd.to_datetime(test_trans['account_make_date']).dt.day)\n",
    "\n",
    "del train_trans['account_make_date']; del test_trans['account_make_date']\n",
    "del train_trans['account_start_day']; del test_trans['account_start_day']"
   ]
  },
  {
   "cell_type": "code",
   "execution_count": 9,
   "metadata": {},
   "outputs": [],
   "source": [
    "train_trans['date'] = pd.to_datetime(train_trans['timeblock']).dt.date\n",
    "test_trans['date'] = pd.to_datetime(test_trans['timeblock']).dt.date\n",
    "\n",
    "train_trans['year'] = train_trans['timeblock'].dt.year\n",
    "train_trans['month'] = train_trans['timeblock'].dt.month\n",
    "train_trans['day'] = train_trans['timeblock'].dt.day\n",
    "train_trans['dayofweek'] = train_trans['timeblock'].dt.dayofweek\n",
    "train_trans['hour'] = train_trans['timeblock'].dt.hour\n",
    "# train_trans['minute'] = train_trans['timeblock'].dt.minute\n",
    "# train_trans['second'] = train_trans['timeblock'].dt.second\n",
    "\n",
    "test_trans['year'] = test_trans['timeblock'].dt.year\n",
    "test_trans['month'] = test_trans['timeblock'].dt.month\n",
    "test_trans['day'] = test_trans['timeblock'].dt.day\n",
    "test_trans['dayofweek'] = test_trans['timeblock'].dt.dayofweek\n",
    "test_trans['hour'] = test_trans['timeblock'].dt.hour\n",
    "# test_trans['minute'] = test_trans['timeblock'].dt.minute\n",
    "# test_trans['second'] = test_trans['timeblock'].dt.second"
   ]
  },
  {
   "cell_type": "markdown",
   "metadata": {},
   "source": [
    "### 소숫점 "
   ]
  },
  {
   "cell_type": "code",
   "execution_count": 10,
   "metadata": {},
   "outputs": [],
   "source": [
    "train_trans['TransactionAmt_decimal_count'] = ((train_trans['TransactionAmt'] - train_trans['TransactionAmt'].astype(int))).astype(str).apply(lambda x: len(x.split('.')[1]))\n",
    "test_trans['TransactionAmt_decimal_count'] = ((test_trans['TransactionAmt'] - test_trans['TransactionAmt'].astype(int))).astype(str).apply(lambda x: len(x.split('.')[1]))"
   ]
  },
  {
   "cell_type": "code",
   "execution_count": 11,
   "metadata": {},
   "outputs": [],
   "source": [
    "train_trans['TransactionAmt_decimal'] = ((train_trans['TransactionAmt'] - train_trans['TransactionAmt'].astype(int)) * 1000).astype(int)\n",
    "test_trans['TransactionAmt_decimal'] = ((test_trans['TransactionAmt'] - test_trans['TransactionAmt'].astype(int)) * 1000).astype(int)"
   ]
  },
  {
   "cell_type": "markdown",
   "metadata": {},
   "source": [
    "### Count Encoding "
   ]
  },
  {
   "cell_type": "code",
   "execution_count": 12,
   "metadata": {},
   "outputs": [
    {
     "data": {
      "application/vnd.jupyter.widget-view+json": {
       "model_id": "fecd1ddf09094de19dc9c3b68dabe6c1",
       "version_major": 2,
       "version_minor": 0
      },
      "text/plain": [
       "HBox(children=(IntProgress(value=0, max=20), HTML(value='')))"
      ]
     },
     "metadata": {},
     "output_type": "display_data"
    },
    {
     "name": "stdout",
     "output_type": "stream",
     "text": [
      "\n"
     ]
    },
    {
     "data": {
      "application/vnd.jupyter.widget-view+json": {
       "model_id": "804340cfa14846f1bb07cb1e8b7f8c34",
       "version_major": 2,
       "version_minor": 0
      },
      "text/plain": [
       "HBox(children=(IntProgress(value=0, max=29), HTML(value='')))"
      ]
     },
     "metadata": {},
     "output_type": "display_data"
    },
    {
     "name": "stdout",
     "output_type": "stream",
     "text": [
      "\n"
     ]
    }
   ],
   "source": [
    "categorical_variables_trans = [\"ProductCD\",\"card1\",\"card2\",\"card3\",\"card4\",\"card5\",\"card6\",\"addr1\",\"addr2\",\"P_emaildomain_bin\",\n",
    "                   \"R_emaildomain_bin\",\"M1\",\"M2\",\"M3\",\"M4\",\"M5\",\"M6\",\"M7\",\"M8\",\"M9\"]\n",
    "\n",
    "categorical_variables_idf = [\"DeviceType\",\"DeviceInfo\",\"id_12\",\n",
    "                   \"id_13\",\"id_14\",\"id_15\",\"id_16\",\"id_17\",\"id_18\",\"id_19\",\"id_20\",\"id_21\",\"id_22\",\"id_23\",\"id_24\",\n",
    "                   \"id_25\",\"id_26\",\"id_27\",\"id_28\",\"id_29\",\"id_30\",\"id_31\",\"id_32\",\"id_33\",\"id_34\",\"id_35\",\"id_36\",\n",
    "                   \"id_37\",\"id_38\"]\n",
    "\n",
    "for i in tqdm_notebook(categorical_variables_trans):\n",
    "    train_trans['{}_count_full'.format(i)] = train_trans[i].map(pd.concat([train_trans[i], test_trans[i]], ignore_index=True).value_counts(dropna=False))\n",
    "    test_trans['{}_count_full'.format(i)] = test_trans[i].map(pd.concat([train_trans[i], test_trans[i]], ignore_index=True).value_counts(dropna=False))\n",
    "    \n",
    "for i in tqdm_notebook(categorical_variables_idf):\n",
    "    train_idf['{}_count_full'.format(i)] = train_idf[i].map(pd.concat([train_idf[i], test_idf[i]], ignore_index=True).value_counts(dropna=False))\n",
    "    test_idf['{}_count_full'.format(i)] = test_idf[i].map(pd.concat([train_idf[i], test_idf[i]], ignore_index=True).value_counts(dropna=False))"
   ]
  },
  {
   "cell_type": "markdown",
   "metadata": {},
   "source": [
    "### Preprocessing "
   ]
  },
  {
   "cell_type": "code",
   "execution_count": 13,
   "metadata": {},
   "outputs": [
    {
     "data": {
      "application/vnd.jupyter.widget-view+json": {
       "model_id": "506003a3c29142b79d675772a36d1a04",
       "version_major": 2,
       "version_minor": 0
      },
      "text/plain": [
       "HBox(children=(IntProgress(value=0, max=22), HTML(value='')))"
      ]
     },
     "metadata": {},
     "output_type": "display_data"
    },
    {
     "name": "stdout",
     "output_type": "stream",
     "text": [
      "\n",
      "Mem. usage decreased to 647.66 Mb (67.1% reduction)\n",
      "Mem. usage decreased to 562.95 Mb (66.6% reduction)\n"
     ]
    },
    {
     "data": {
      "application/vnd.jupyter.widget-view+json": {
       "model_id": "fc5e7329497c42df88e47d00cc67056f",
       "version_major": 2,
       "version_minor": 0
      },
      "text/plain": [
       "HBox(children=(IntProgress(value=0, max=29), HTML(value='')))"
      ]
     },
     "metadata": {},
     "output_type": "display_data"
    },
    {
     "name": "stdout",
     "output_type": "stream",
     "text": [
      "\n",
      "Mem. usage decreased to 44.84 Mb (41.8% reduction)\n",
      "Mem. usage decreased to 44.12 Mb (41.8% reduction)\n"
     ]
    }
   ],
   "source": [
    "train_trans, test_trans =  transform_transaction_catcols(train_trans, test_trans)\n",
    "train_idf, test_idf =  transform_identity_catcols(train_idf, test_idf)"
   ]
  },
  {
   "cell_type": "code",
   "execution_count": 14,
   "metadata": {},
   "outputs": [],
   "source": [
    "total_trans = pd.concat([train_trans,test_trans],axis=0,sort=False)\n",
    "D_columns = [c for c in train_trans.columns if (c[0] == 'D')]\n",
    "for i in D_columns:\n",
    "    total_trans_size = total_trans.groupby(['year','month'])[i].agg({'mean'}).reset_index()\n",
    "    train_trans = train_trans.merge(total_trans_size,how='left',on=['year','month'])\n",
    "    test_trans = test_trans.merge(total_trans_size,how='left',on=['year','month'])\n",
    "    \n",
    "    train_trans[i] = train_trans[i] / train_trans['mean']\n",
    "    test_trans[i] = test_trans[i] / test_trans['mean']\n",
    "    del train_trans['mean']; del test_trans['mean']"
   ]
  },
  {
   "cell_type": "markdown",
   "metadata": {},
   "source": [
    "### 카테고리의 결합 "
   ]
  },
  {
   "cell_type": "code",
   "execution_count": 15,
   "metadata": {},
   "outputs": [],
   "source": [
    "train_trans['card1_addr1'] = train_trans['card1'].astype(str) + '_' + train_trans['addr1'].astype(str)\n",
    "test_trans['card1_addr1'] = test_trans['card1'].astype(str) + '_' + test_trans['addr1'].astype(str)"
   ]
  },
  {
   "cell_type": "code",
   "execution_count": 16,
   "metadata": {},
   "outputs": [],
   "source": [
    "train_trans['card1_addr2'] = train_trans['card1'].astype(str) + '_' + train_trans['addr2'].astype(str)\n",
    "test_trans['card1_addr2'] = test_trans['card1'].astype(str) + '_' + test_trans['addr2'].astype(str)"
   ]
  },
  {
   "cell_type": "code",
   "execution_count": 17,
   "metadata": {},
   "outputs": [],
   "source": [
    "train_trans['card1_ProductCD'] = train_trans['card1'].astype(str) + '_' + train_trans['ProductCD'].astype(str)\n",
    "test_trans['card1_ProductCD'] = test_trans['card1'].astype(str) + '_' + test_trans['ProductCD'].astype(str)"
   ]
  },
  {
   "cell_type": "code",
   "execution_count": 18,
   "metadata": {},
   "outputs": [],
   "source": [
    "train_trans['TransactionAmt_ProductCD'] = train_trans['TransactionAmt'].astype(str) + '_' + train_trans['ProductCD'].astype(str)\n",
    "test_trans['TransactionAmt_ProductCD'] = test_trans['TransactionAmt'].astype(str) + '_' + test_trans['ProductCD'].astype(str)"
   ]
  },
  {
   "cell_type": "markdown",
   "metadata": {},
   "source": [
    "### 결합된 카테고리의 Count Encoding "
   ]
  },
  {
   "cell_type": "code",
   "execution_count": 19,
   "metadata": {},
   "outputs": [
    {
     "data": {
      "application/vnd.jupyter.widget-view+json": {
       "model_id": "5129e3c784894d03ad553efb90a67d9e",
       "version_major": 2,
       "version_minor": 0
      },
      "text/plain": [
       "HBox(children=(IntProgress(value=0, max=4), HTML(value='')))"
      ]
     },
     "metadata": {},
     "output_type": "display_data"
    },
    {
     "name": "stdout",
     "output_type": "stream",
     "text": [
      "\n"
     ]
    },
    {
     "data": {
      "text/plain": [
       "\"\\nfor i in tqdm_notebook(categorical_variables_idf):\\n    train_idf['{}_count_full'.format(i)] = train_idf[i].map(pd.concat([train_idf[i], test_idf[i]], ignore_index=True).value_counts(dropna=False))\\n    test_idf['{}_count_full'.format(i)] = test_idf[i].map(pd.concat([train_idf[i], test_idf[i]], ignore_index=True).value_counts(dropna=False)\\n\""
      ]
     },
     "execution_count": 19,
     "metadata": {},
     "output_type": "execute_result"
    }
   ],
   "source": [
    "categorical_variables_trans = [\"card1_addr1\", \"card1_addr2\", \"card1_ProductCD\",'TransactionAmt_ProductCD']\n",
    "\n",
    "categorical_variables_idf = []\n",
    "\n",
    "for i in tqdm_notebook(categorical_variables_trans):\n",
    "    train_trans['{}_count_full'.format(i)] = train_trans[i].map(pd.concat([train_trans[i], test_trans[i]], ignore_index=True).value_counts(dropna=False))\n",
    "    test_trans['{}_count_full'.format(i)] = test_trans[i].map(pd.concat([train_trans[i], test_trans[i]], ignore_index=True).value_counts(dropna=False))\n",
    "\n",
    "'''\n",
    "for i in tqdm_notebook(categorical_variables_idf):\n",
    "    train_idf['{}_count_full'.format(i)] = train_idf[i].map(pd.concat([train_idf[i], test_idf[i]], ignore_index=True).value_counts(dropna=False))\n",
    "    test_idf['{}_count_full'.format(i)] = test_idf[i].map(pd.concat([train_idf[i], test_idf[i]], ignore_index=True).value_counts(dropna=False)\n",
    "'''   "
   ]
  },
  {
   "cell_type": "markdown",
   "metadata": {},
   "source": [
    "### 같은 날 같은 card1으로 구매한 동일한 TransactionAmt "
   ]
  },
  {
   "cell_type": "code",
   "execution_count": 20,
   "metadata": {},
   "outputs": [],
   "source": [
    "train_trans_Amt = pd.DataFrame(train_trans.groupby(['date','card1','TransactionAmt'])['TransactionAmt'].agg({'count'})).reset_index()\n",
    "test_trans_Amt = pd.DataFrame(test_trans.groupby(['date','card1','TransactionAmt'])['TransactionAmt'].agg({'count'})).reset_index()"
   ]
  },
  {
   "cell_type": "code",
   "execution_count": 21,
   "metadata": {},
   "outputs": [],
   "source": [
    "train_trans_Amt1 = pd.DataFrame(train_trans.groupby(['date','card3','addr1','TransactionAmt'])['TransactionAmt'].agg({'count'})).reset_index()\n",
    "test_trans_Amt1 = pd.DataFrame(test_trans.groupby(['date','card3','addr1','TransactionAmt'])['TransactionAmt'].agg({'count'})).reset_index()"
   ]
  },
  {
   "cell_type": "raw",
   "metadata": {},
   "source": [
    "train_trans_Amt = train_trans_Amt.merge(total_trans_size,how='left',on='date')\n",
    "test_trans_Amt = test_trans_Amt.merge(total_trans_size,how='left',on='date')\n",
    "\n",
    "train_trans_Amt1 = train_trans_Amt1.merge(total_trans_size,how='left',on='date')\n",
    "test_trans_Amt1 = test_trans_Amt1.merge(total_trans_size,how='left',on='date')\n",
    "\n",
    "train_trans_Amt['count'] = train_trans_Amt['count_x'] / train_trans_Amt['count_y']\n",
    "test_trans_Amt['count'] = test_trans_Amt['count_x'] / test_trans_Amt['count_y']\n",
    "train_trans_Amt1['count'] = train_trans_Amt1['count_x'] / train_trans_Amt1['count_y']\n",
    "test_trans_Amt1['count'] = test_trans_Amt1['count_x'] / test_trans_Amt1['count_y']\n",
    "\n",
    "train_trans_Amt = train_trans_Amt[['date','card1','TransactionAmt','count','count_x']]\n",
    "test_trans_Amt = test_trans_Amt[['date','card1','TransactionAmt','count','count_x']]\n",
    "train_trans_Amt1 = train_trans_Amt1[['date','card3','addr1','TransactionAmt','count','count_x']]\n",
    "test_trans_Amt1 = test_trans_Amt1[['date','card3','addr1','TransactionAmt','count','count_x']]"
   ]
  },
  {
   "cell_type": "markdown",
   "metadata": {},
   "source": [
    "### 동일한 card의 nunique"
   ]
  },
  {
   "cell_type": "raw",
   "metadata": {
    "scrolled": true
   },
   "source": [
    "train_trans_Id = pd.DataFrame(train_trans.groupby(['card1','card2','card3','card5'])['TransactionID'].nunique()).reset_index()\n",
    "train_trans_Id.columns = ['card1','card2','card3','card5','card_1_2_3_5_nunique']\n",
    "\n",
    "test_trans_Id = pd.DataFrame(test_trans.groupby(['card1','card2','card3','card5'])['TransactionID'].nunique()).reset_index()\n",
    "test_trans_Id.columns = ['card1','card2','card3','card5','card_1_2_3_5_nunique']"
   ]
  },
  {
   "cell_type": "markdown",
   "metadata": {},
   "source": [
    "### Prev_click , Next_click "
   ]
  },
  {
   "cell_type": "raw",
   "metadata": {},
   "source": [
    "train_trans['card_1_2_3_5_prev_click'] = train_trans['TransactionDT'] - train_trans.groupby(['card1','card2','card3','card5'])['TransactionDT'].shift(1)\n",
    "test_trans['card_1_2_3_5_prev_click'] = train_trans['TransactionDT'] - train_trans.groupby(['card1','card2','card3','card5'])['TransactionDT'].shift(1)\n",
    "\n",
    "train_trans['card_1_2_3_5_next_click'] = train_trans['TransactionDT'] - train_trans.groupby(['card1','card2','card3','card5'])['TransactionDT'].shift(-1)\n",
    "test_trans['card_1_2_3_5_next_click'] = train_trans['TransactionDT'] - train_trans.groupby(['card1','card2','card3','card5'])['TransactionDT'].shift(-1)"
   ]
  },
  {
   "cell_type": "raw",
   "metadata": {},
   "source": [
    "train_trans['card_1_3_TransactionAmt_prev_click'] = train_trans.groupby(['date','card3','addr1','TransactionAmt'])['TransactionDT'].shift(1)\n",
    "test_trans['card_1_3_TransactionAmt_prev_click'] = test_trans.groupby(['date','card3','addr1','TransactionAmt'])['TransactionDT'].shift(1)\n",
    "\n",
    "train_trans['card_1_3_TransactionAmt_next_click'] = train_trans.groupby(['date','card3','addr1','TransactionAmt'])['TransactionDT'].shift(-1)\n",
    "test_trans['card_1_3_TransactionAmt_next_click'] = test_trans.groupby(['date','card3','addr1','TransactionAmt'])['TransactionDT'].shift(-1)"
   ]
  },
  {
   "cell_type": "markdown",
   "metadata": {},
   "source": [
    "### 결합"
   ]
  },
  {
   "cell_type": "code",
   "execution_count": 22,
   "metadata": {},
   "outputs": [],
   "source": [
    "# Data Merge\n",
    "train_df = pd.merge(train_trans,train_idf,how='left',on='TransactionID')\n",
    "test_df = pd.merge(test_trans,test_idf,how='left',on='TransactionID')"
   ]
  },
  {
   "cell_type": "markdown",
   "metadata": {},
   "source": [
    "### Prev_click , Next_click , Prev_Amt , Next_Amt with id info. "
   ]
  },
  {
   "cell_type": "code",
   "execution_count": 23,
   "metadata": {
    "scrolled": true
   },
   "outputs": [],
   "source": [
    "# ['id_30','id_31','id_33','DeviceType','DeviceInfo']\n",
    "train_df['id_30_31_33_Type_Info_prev_click'] = train_df['TransactionDT'] - train_df.groupby(['id_30','id_31','id_33','DeviceType','DeviceInfo'])['TransactionDT'].shift(1)\n",
    "test_df['id_30_31_33_Type_Info_prev_click'] = test_df['TransactionDT'] - test_df.groupby(['id_30','id_31','id_33','DeviceType','DeviceInfo'])['TransactionDT'].shift(1)\n",
    "\n",
    "train_df['id_30_31_33_Type_Info_next_click'] = train_df['TransactionDT'] - train_df.groupby(['id_30','id_31','id_33','DeviceType','DeviceInfo'])['TransactionDT'].shift(-1)\n",
    "test_df['id_30_31_33_Type_Info_next_click'] = test_df['TransactionDT'] - test_df.groupby(['id_30','id_31','id_33','DeviceType','DeviceInfo'])['TransactionDT'].shift(-1)"
   ]
  },
  {
   "cell_type": "markdown",
   "metadata": {},
   "source": [
    "### Merge"
   ]
  },
  {
   "cell_type": "code",
   "execution_count": 24,
   "metadata": {
    "scrolled": true
   },
   "outputs": [],
   "source": [
    "# Data Merge\n",
    "train_df = pd.merge(train_df,train_trans_Amt,how='left',on=['date','card1','TransactionAmt'])\n",
    "test_df = pd.merge(test_df,test_trans_Amt,how='left',on=['date','card1','TransactionAmt'])"
   ]
  },
  {
   "cell_type": "code",
   "execution_count": 25,
   "metadata": {},
   "outputs": [],
   "source": [
    "# Data Merge\n",
    "train_df = pd.merge(train_df,train_trans_Amt1,how='left',on=['date','card3','addr1','TransactionAmt'])\n",
    "test_df = pd.merge(test_df,test_trans_Amt1,how='left',on=['date','card3','addr1','TransactionAmt'])"
   ]
  },
  {
   "cell_type": "raw",
   "metadata": {},
   "source": [
    "# Data Merge\n",
    "train_df = pd.merge(train_df,train_trans_Id,how='left',on=['card1','card2','card3','card5'])\n",
    "test_df = pd.merge(test_df,test_trans_Id,how='left',on=['card1','card2','card3','card5'])"
   ]
  },
  {
   "cell_type": "markdown",
   "metadata": {},
   "source": [
    "### kyakovlev 변수 "
   ]
  },
  {
   "cell_type": "code",
   "execution_count": 26,
   "metadata": {},
   "outputs": [],
   "source": [
    "# 점수비교 \n",
    "# https://www.kaggle.com/kyakovlev/ieee-gb-2-make-amount-useful-again\n",
    "\n",
    "train_df['uid'] = train_df['card1'].astype(str)+'_'+train_df['card2'].astype(str)+'_'+train_df['card3'].astype(str)+'_'+train_df['card4'].astype(str)\n",
    "test_df['uid'] = test_df['card1'].astype(str)+'_'+test_df['card2'].astype(str)+'_'+test_df['card3'].astype(str)+'_'+test_df['card4'].astype(str)\n",
    "\n",
    "train_df['uid2'] = train_df['uid'].astype(str)+'_'+train_df['addr1'].astype(str)+'_'+train_df['addr2'].astype(str)\n",
    "test_df['uid2'] = test_df['uid'].astype(str)+'_'+test_df['addr1'].astype(str)+'_'+test_df['addr2'].astype(str)\n",
    "\n",
    "i_cols = ['card1','card2','card3','card5','uid','uid2']\n",
    "\n",
    "for col in i_cols:\n",
    "    for agg_type in ['mean', 'std', 'nunique']:\n",
    "        new_col_name = col+'_TransactionAmt_'+agg_type\n",
    "        temp_df = pd.concat([train_df[[col, 'TransactionAmt']], test_df[[col,'TransactionAmt']]])\n",
    "        temp_df = temp_df.groupby([col])['TransactionAmt'].agg([agg_type]).reset_index().rename(\n",
    "                                                columns={agg_type: new_col_name})\n",
    "        \n",
    "        temp_df.index = list(temp_df[col])\n",
    "        temp_df = temp_df[new_col_name].to_dict()   \n",
    "    \n",
    "        train_df[new_col_name] = train_df[col].map(temp_df)\n",
    "        test_df[new_col_name]  = test_df[col].map(temp_df)\n",
    "        \n",
    "########################### Anomaly Search in geo information\n",
    "\n",
    "# Let's look on bank addres and client addres matching\n",
    "# card3/card5 bank country and name?\n",
    "# Addr2 -> Clients geo position (country)\n",
    "# Most common entries -> normal transactions\n",
    "# Less common etries -> some anonaly\n",
    "train_df['bank_type'] = train_df['card3'].astype(str)+'_'+train_df['card5'].astype(str)\n",
    "test_df['bank_type']  = test_df['card3'].astype(str)+'_'+test_df['card5'].astype(str)\n",
    "\n",
    "train_df['address_match'] = train_df['bank_type'].astype(str)+'_'+train_df['addr2'].astype(str)\n",
    "test_df['address_match']  = test_df['bank_type'].astype(str)+'_'+test_df['addr2'].astype(str)\n",
    "\n",
    "for col in ['address_match','bank_type']:\n",
    "    temp_df = pd.concat([train_df[[col]], test_df[[col]]])\n",
    "    temp_df[col] = np.where(temp_df[col].str.contains('nan'), np.nan, temp_df[col])\n",
    "    temp_df = temp_df.dropna()\n",
    "    fq_encode = temp_df[col].value_counts().to_dict()   \n",
    "    train_df[col] = train_df[col].map(fq_encode)\n",
    "    test_df[col]  = test_df[col].map(fq_encode)\n",
    "\n",
    "train_df['address_match'] = train_df['address_match']/train_df['bank_type'] \n",
    "test_df['address_match']  = test_df['address_match']/test_df['bank_type']"
   ]
  },
  {
   "cell_type": "markdown",
   "metadata": {},
   "source": [
    "### Aggregate"
   ]
  },
  {
   "cell_type": "code",
   "execution_count": 27,
   "metadata": {
    "scrolled": true
   },
   "outputs": [],
   "source": [
    "i_cols = ['uid','uid2', \"card1_addr2\", \"card1_ProductCD\"]\n",
    "\n",
    "for col in i_cols:\n",
    "    for agg_type in ['median']:\n",
    "        new_col_name = col+'_hour_'+agg_type\n",
    "        temp_df = pd.concat([train_df[[col, 'hour']], test_df[[col,'hour']]])\n",
    "        temp_df = temp_df.groupby([col])['hour'].agg([agg_type]).reset_index().rename(\n",
    "                                                columns={agg_type: new_col_name})\n",
    "        \n",
    "        temp_df.index = list(temp_df[col])\n",
    "        temp_df = temp_df[new_col_name].to_dict()   \n",
    "    \n",
    "        train_df[new_col_name] = train_df[col].map(temp_df)\n",
    "        test_df[new_col_name]  = test_df[col].map(temp_df)"
   ]
  },
  {
   "cell_type": "code",
   "execution_count": 28,
   "metadata": {},
   "outputs": [],
   "source": [
    "del train_df['uid']; del train_df['uid2']; del train_df['bank_type']\n",
    "del test_df['uid']; del test_df['uid2']; del test_df['bank_type']"
   ]
  },
  {
   "cell_type": "code",
   "execution_count": 29,
   "metadata": {},
   "outputs": [
    {
     "name": "stderr",
     "output_type": "stream",
     "text": [
      "C:\\Users\\User\\Anaconda3\\lib\\site-packages\\ipykernel_launcher.py:1: FutureWarning:\n",
      "\n",
      "Sorting because non-concatenation axis is not aligned. A future version\n",
      "of pandas will change to not sort by default.\n",
      "\n",
      "To accept the future behavior, pass 'sort=False'.\n",
      "\n",
      "To retain the current behavior and silence the warning, pass 'sort=True'.\n",
      "\n",
      "\n"
     ]
    }
   ],
   "source": [
    "total_df = pd.concat([train_df,test_df],axis=0)\n",
    "train_df = train_df.merge(total_df.groupby(['card1','account_make_date_D1','ProductCD'])['TransactionAmt'].agg({'mean'}).reset_index(), how='left', on = ['card1','account_make_date_D1','ProductCD'])\n",
    "test_df = test_df.merge(total_df.groupby(['card1','account_make_date_D1','ProductCD'])['TransactionAmt'].agg({'mean'}).reset_index(), how='left', on = ['card1','account_make_date_D1','ProductCD'])"
   ]
  },
  {
   "cell_type": "markdown",
   "metadata": {},
   "source": [
    "### same_person_card_counts\n",
    "- 성훈님이 만든 변수로 TransactionAmt, account_make_date와 DeviceInfo가 같은 거래를 같은 사람으로 보는 방법입니다. "
   ]
  },
  {
   "cell_type": "raw",
   "metadata": {
    "scrolled": true
   },
   "source": [
    "# 수정된 D로 해도 상관없는게 date가 어차피 train / test가 분리되어서 영향을 못끼침. \n",
    "for i in tqdm_notebook(['D8', 'D11', 'D12', 'D14']):\n",
    "    account_make_date = 'account_make_date_{}'.format(i)\n",
    "    train_df['poten_client_id'] = train_df['date'].astype('str') + train_df['TransactionAmt'].astype('str') + train_df[account_make_date].astype('str') + train_df['DeviceInfo'].astype('str')\n",
    "    test_df['poten_client_id'] = test_df['date'].astype('str') + test_df['TransactionAmt'].astype('str') + test_df[account_make_date].astype('str') + test_df['DeviceInfo'].astype('str')\n",
    "\n",
    "    train_df_poten_card1_nunique = train_df.groupby(['poten_client_id'])['card1'].agg({'nunique'}).reset_index()\n",
    "    train_df_poten_card1_nunique.rename(columns={\"nunique\":\"poten_card1_nunique_{}\".format(i)},inplace=True)\n",
    "\n",
    "    test_df_poten_card1_nunique = test_df.groupby(['poten_client_id'])['card1'].agg({'nunique'}).reset_index()\n",
    "    test_df_poten_card1_nunique.rename(columns={\"nunique\":\"poten_card1_nunique_{}\".format(i)},inplace=True)\n",
    "    \n",
    "    train_df = train_df.merge(train_df_poten_card1_nunique,how='left',on='poten_client_id')\n",
    "    test_df = test_df.merge(test_df_poten_card1_nunique,how='left',on='poten_client_id')\n",
    "del train_df['poten_client_id']; del test_df['poten_client_id']"
   ]
  },
  {
   "cell_type": "markdown",
   "metadata": {},
   "source": [
    "### Label Encoding "
   ]
  },
  {
   "cell_type": "code",
   "execution_count": 30,
   "metadata": {},
   "outputs": [
    {
     "data": {
      "application/vnd.jupyter.widget-view+json": {
       "model_id": "477c79228fd54668b5825b2bfc8cc38a",
       "version_major": 2,
       "version_minor": 0
      },
      "text/plain": [
       "HBox(children=(IntProgress(value=0, max=542), HTML(value='')))"
      ]
     },
     "metadata": {},
     "output_type": "display_data"
    },
    {
     "name": "stdout",
     "output_type": "stream",
     "text": [
      "\n"
     ]
    }
   ],
   "source": [
    "from sklearn.preprocessing import LabelEncoder\n",
    "\n",
    "for col in tqdm_notebook(train_df.columns):\n",
    "    if train_df[col].dtype == 'object':\n",
    "        le = LabelEncoder()\n",
    "        le.fit(list(train_df[col].astype(str).values) + list(test_df[col].astype(str).values))\n",
    "        train_df[col] = le.transform(list(train_df[col].astype(str).values))\n",
    "        test_df[col] = le.transform(list(test_df[col].astype(str).values))   "
   ]
  },
  {
   "cell_type": "markdown",
   "metadata": {},
   "source": [
    "## LightGBM - Adversarial Validation "
   ]
  },
  {
   "cell_type": "code",
   "execution_count": 31,
   "metadata": {},
   "outputs": [],
   "source": [
    "from sklearn.model_selection import KFold, StratifiedKFold, TimeSeriesSplit\n",
    "from sklearn.metrics import roc_auc_score\n",
    "import lightgbm as lgb"
   ]
  },
  {
   "cell_type": "code",
   "execution_count": 48,
   "metadata": {},
   "outputs": [],
   "source": [
    "features = [c for c in train_df.columns if c not in ['TransactionID', 'isFraud','TransactionDT','timeblock','account_start_day', 'date'\n",
    "                                                    , 'year', 'month', 'target', 'day','account_make_date_D11', 'account_make_date_D3', 'account_make_date_D5', 'account_make_date_D4' , 'account_make_date_D8', 'account_make_date_D14', 'account_make_date_D6', 'account_make_date_D12', 'account_make_date_D7'\n",
    "                                                    , 'card_1_2_3_5_nunique', 'card_1_2_3_5_prev_click', 'card_1_2_3_5_next_click', 'card_1_3_TransactionAmt_prev_click', 'card_1_3_TransactionAmt_next_click', 'account_make_date'\n",
    "                                                    , 'poten_card1_nunique_D5', 'poten_card1_nunique_D11','poten_card1_nunique_D6', 'poten_card1_nunique_D3','poten_card1_nunique_D7','poten_card1_nunique_D12','poten_card1_nunique_D8','poten_card1_nunique_D4','poten_card1_nunique_D14'\n",
    "                                                    , 'id_13', 'id_31', 'id_13_count_full', 'id_31_count_full','ProductCD', 'card3', 'card4', 'card5', 'card6', 'M1', 'M2', 'M3',\n",
    "       'M4', 'M5', 'M7', 'M8', 'M9', 'P_emaildomain_bin',\n",
    "       'P_emaildomain_suffix', 'R_emaildomain_bin',\n",
    "       'R_emaildomain_suffix', 'account_make_date',\n",
    "       'account_make_date_D3', 'account_make_date_D4',\n",
    "       'account_make_date_D7', 'account_make_date_D8',\n",
    "       'account_make_date_D11', 'account_make_date_D12',\n",
    "       'account_make_date_D14', 'dayofweek', 'hour', 'card1_addr1',\n",
    "       'card1_ProductCD', 'id_01', 'id_02', 'id_03', 'id_04', 'id_05',\n",
    "       'id_06', 'id_08', 'id_09', 'id_10', 'id_11', 'id_12', 'id_14',\n",
    "       'id_15', 'id_16', 'id_18', 'id_19', 'id_20', 'id_22', 'id_24',\n",
    "       'id_25', 'id_27', 'id_28', 'id_29', 'id_30', 'id_32', 'id_33',\n",
    "       'id_34', 'id_35', 'id_36', 'id_37', 'DeviceType', 'count_x', 'count_y', 'D15', \"card1_TransactionAmt_mean\",\n",
    "        'card1_addr1hourstd','card1_addr1hourmedian','uid_hour_std','uid2_hour_std','card1_ProductCD_hour_std','card1_addr2_hour_std',\n",
    "        'card1_TransactionAmt_nunique','card2_TransactionAmt_nunique','card3_TransactionAmt_nunique','card5_TransactionAmt_nunique','uid_TransactionAmt_nunique',\n",
    "        'uid_hour_nunique','uid2_hour_nunique','card1_addr2_hour_nunique','card1_ProductCD_hour_nunique','account_make_date_D1']]"
   ]
  },
  {
   "cell_type": "code",
   "execution_count": 49,
   "metadata": {},
   "outputs": [],
   "source": [
    "train = train_df.copy()\n",
    "test = test_df.copy()"
   ]
  },
  {
   "cell_type": "code",
   "execution_count": 50,
   "metadata": {},
   "outputs": [
    {
     "name": "stderr",
     "output_type": "stream",
     "text": [
      "C:\\Users\\User\\Anaconda3\\lib\\site-packages\\ipykernel_launcher.py:6: FutureWarning:\n",
      "\n",
      "Sorting because non-concatenation axis is not aligned. A future version\n",
      "of pandas will change to not sort by default.\n",
      "\n",
      "To accept the future behavior, pass 'sort=False'.\n",
      "\n",
      "To retain the current behavior and silence the warning, pass 'sort=True'.\n",
      "\n",
      "\n"
     ]
    }
   ],
   "source": [
    "from sklearn import model_selection, preprocessing, metrics\n",
    "\n",
    "train['target'] = 0\n",
    "test['target'] = 1\n",
    "\n",
    "train_test = pd.concat([train, test], axis =0)\n",
    "target = train_test['target'].values\n",
    "\n",
    "train, test = model_selection.train_test_split(train_test, test_size=0.33, random_state=42, shuffle=True)\n",
    "train_y = train['target'].values\n",
    "test_y = test['target'].values\n",
    "del train['target'], test['target']\n",
    "gc.collect()\n",
    "\n",
    "train = lgb.Dataset(train[features], label=train_y)\n",
    "test = lgb.Dataset(test[features], label=test_y)"
   ]
  },
  {
   "cell_type": "code",
   "execution_count": 51,
   "metadata": {},
   "outputs": [],
   "source": [
    "# 문제점\n",
    "# 파라미터에 따라서 아래와 결과가 달라짐. \n",
    "params = {'num_leaves': 491,\n",
    "          'min_child_weight': 0.03454472573214212,\n",
    "          'feature_fraction': 0.3797454081646243,\n",
    "          'bagging_fraction': 0.4181193142567742,\n",
    "          'min_data_in_leaf': 106,\n",
    "          'objective': 'binary',\n",
    "          'max_depth': -1,\n",
    "          'learning_rate': 0.006883242363721497,\n",
    "          \"boosting_type\": \"gbdt\",\n",
    "          \"bagging_seed\": 11,\n",
    "          \"metric\": 'auc',\n",
    "          \"verbosity\": -1,\n",
    "          'reg_alpha': 0.3899927210061127,\n",
    "          'reg_lambda': 0.6485237330340494,\n",
    "          'random_state': 47\n",
    "         }"
   ]
  },
  {
   "cell_type": "code",
   "execution_count": 52,
   "metadata": {},
   "outputs": [
    {
     "name": "stdout",
     "output_type": "stream",
     "text": [
      "Training until validation scores don't improve for 50 rounds.\n",
      "[50]\ttraining's auc: 0.90127\tvalid_1's auc: 0.897349\n",
      "Did not meet early stopping. Best iteration is:\n",
      "[41]\ttraining's auc: 0.901351\tvalid_1's auc: 0.897481\n"
     ]
    }
   ],
   "source": [
    "num_round = 50\n",
    "clf = lgb.train(params, train, num_round, valid_sets = [train, test], verbose_eval=50, early_stopping_rounds = 50)"
   ]
  },
  {
   "cell_type": "code",
   "execution_count": 53,
   "metadata": {},
   "outputs": [
    {
     "data": {
      "image/png": "[encoded data removed]",
      "text/plain": [
       "<Figure size 1440x720 with 1 Axes>"
      ]
     },
     "metadata": {
      "needs_background": "light"
     },
     "output_type": "display_data"
    },
    {
     "data": {
      "text/plain": [
       "<Figure size 432x288 with 0 Axes>"
      ]
     },
     "metadata": {},
     "output_type": "display_data"
    }
   ],
   "source": [
    "feature_imp = pd.DataFrame(sorted(zip(clf.feature_importance(),features)), columns=['Value','Feature'])\n",
    "\n",
    "plt.figure(figsize=(20, 10))\n",
    "sns.barplot(x=\"Value\", y=\"Feature\", data=feature_imp.sort_values(by=\"Value\", ascending=False).head(20))\n",
    "plt.title('LightGBM Features')\n",
    "plt.tight_layout()\n",
    "plt.show()\n",
    "plt.savefig('lgbm_importances-01.png')"
   ]
  },
  {
   "cell_type": "code",
   "execution_count": 55,
   "metadata": {
    "scrolled": true
   },
   "outputs": [
    {
     "data": {
      "text/html": [
       "<div>\n",
       "<style scoped>\n",
       "    .dataframe tbody tr th:only-of-type {\n",
       "        vertical-align: middle;\n",
       "    }\n",
       "\n",
       "    .dataframe tbody tr th {\n",
       "        vertical-align: top;\n",
       "    }\n",
       "\n",
       "    .dataframe thead th {\n",
       "        text-align: right;\n",
       "    }\n",
       "</style>\n",
       "<table border=\"1\" class=\"dataframe\">\n",
       "  <thead>\n",
       "    <tr style=\"text-align: right;\">\n",
       "      <th></th>\n",
       "      <th>Value</th>\n",
       "      <th>Feature</th>\n",
       "    </tr>\n",
       "  </thead>\n",
       "  <tbody>\n",
       "    <tr>\n",
       "      <th>458</th>\n",
       "      <td>2229</td>\n",
       "      <td>D3</td>\n",
       "    </tr>\n",
       "    <tr>\n",
       "      <th>457</th>\n",
       "      <td>1484</td>\n",
       "      <td>D5</td>\n",
       "    </tr>\n",
       "    <tr>\n",
       "      <th>456</th>\n",
       "      <td>1138</td>\n",
       "      <td>D10</td>\n",
       "    </tr>\n",
       "    <tr>\n",
       "      <th>455</th>\n",
       "      <td>905</td>\n",
       "      <td>D4</td>\n",
       "    </tr>\n",
       "    <tr>\n",
       "      <th>454</th>\n",
       "      <td>850</td>\n",
       "      <td>D2</td>\n",
       "    </tr>\n",
       "    <tr>\n",
       "      <th>453</th>\n",
       "      <td>812</td>\n",
       "      <td>D11</td>\n",
       "    </tr>\n",
       "    <tr>\n",
       "      <th>452</th>\n",
       "      <td>727</td>\n",
       "      <td>D1</td>\n",
       "    </tr>\n",
       "    <tr>\n",
       "      <th>451</th>\n",
       "      <td>466</td>\n",
       "      <td>V310</td>\n",
       "    </tr>\n",
       "    <tr>\n",
       "      <th>450</th>\n",
       "      <td>380</td>\n",
       "      <td>C13</td>\n",
       "    </tr>\n",
       "    <tr>\n",
       "      <th>449</th>\n",
       "      <td>335</td>\n",
       "      <td>C11</td>\n",
       "    </tr>\n",
       "    <tr>\n",
       "      <th>448</th>\n",
       "      <td>294</td>\n",
       "      <td>mean</td>\n",
       "    </tr>\n",
       "    <tr>\n",
       "      <th>447</th>\n",
       "      <td>225</td>\n",
       "      <td>TransactionAmt_ProductCD_count_full</td>\n",
       "    </tr>\n",
       "    <tr>\n",
       "      <th>446</th>\n",
       "      <td>215</td>\n",
       "      <td>TransactionAmt_decimal</td>\n",
       "    </tr>\n",
       "    <tr>\n",
       "      <th>445</th>\n",
       "      <td>198</td>\n",
       "      <td>id_30_count_full</td>\n",
       "    </tr>\n",
       "    <tr>\n",
       "      <th>444</th>\n",
       "      <td>197</td>\n",
       "      <td>C9</td>\n",
       "    </tr>\n",
       "    <tr>\n",
       "      <th>443</th>\n",
       "      <td>179</td>\n",
       "      <td>id_19_count_full</td>\n",
       "    </tr>\n",
       "    <tr>\n",
       "      <th>442</th>\n",
       "      <td>170</td>\n",
       "      <td>C1</td>\n",
       "    </tr>\n",
       "    <tr>\n",
       "      <th>441</th>\n",
       "      <td>165</td>\n",
       "      <td>address_match</td>\n",
       "    </tr>\n",
       "    <tr>\n",
       "      <th>440</th>\n",
       "      <td>143</td>\n",
       "      <td>C2</td>\n",
       "    </tr>\n",
       "    <tr>\n",
       "      <th>439</th>\n",
       "      <td>141</td>\n",
       "      <td>card2_TransactionAmt_mean</td>\n",
       "    </tr>\n",
       "    <tr>\n",
       "      <th>438</th>\n",
       "      <td>139</td>\n",
       "      <td>card5_TransactionAmt_std</td>\n",
       "    </tr>\n",
       "    <tr>\n",
       "      <th>437</th>\n",
       "      <td>139</td>\n",
       "      <td>D6</td>\n",
       "    </tr>\n",
       "    <tr>\n",
       "      <th>436</th>\n",
       "      <td>136</td>\n",
       "      <td>D14</td>\n",
       "    </tr>\n",
       "    <tr>\n",
       "      <th>435</th>\n",
       "      <td>129</td>\n",
       "      <td>C6</td>\n",
       "    </tr>\n",
       "    <tr>\n",
       "      <th>434</th>\n",
       "      <td>121</td>\n",
       "      <td>card2</td>\n",
       "    </tr>\n",
       "    <tr>\n",
       "      <th>433</th>\n",
       "      <td>116</td>\n",
       "      <td>uid_TransactionAmt_mean</td>\n",
       "    </tr>\n",
       "    <tr>\n",
       "      <th>432</th>\n",
       "      <td>116</td>\n",
       "      <td>V317</td>\n",
       "    </tr>\n",
       "    <tr>\n",
       "      <th>431</th>\n",
       "      <td>115</td>\n",
       "      <td>C10</td>\n",
       "    </tr>\n",
       "    <tr>\n",
       "      <th>430</th>\n",
       "      <td>113</td>\n",
       "      <td>D12</td>\n",
       "    </tr>\n",
       "    <tr>\n",
       "      <th>429</th>\n",
       "      <td>108</td>\n",
       "      <td>V283</td>\n",
       "    </tr>\n",
       "    <tr>\n",
       "      <th>...</th>\n",
       "      <td>...</td>\n",
       "      <td>...</td>\n",
       "    </tr>\n",
       "    <tr>\n",
       "      <th>64</th>\n",
       "      <td>0</td>\n",
       "      <td>id_27_count_full</td>\n",
       "    </tr>\n",
       "    <tr>\n",
       "      <th>63</th>\n",
       "      <td>0</td>\n",
       "      <td>id_24_count_full</td>\n",
       "    </tr>\n",
       "    <tr>\n",
       "      <th>62</th>\n",
       "      <td>0</td>\n",
       "      <td>id_23_count_full</td>\n",
       "    </tr>\n",
       "    <tr>\n",
       "      <th>61</th>\n",
       "      <td>0</td>\n",
       "      <td>id_23</td>\n",
       "    </tr>\n",
       "    <tr>\n",
       "      <th>60</th>\n",
       "      <td>0</td>\n",
       "      <td>id_22_count_full</td>\n",
       "    </tr>\n",
       "    <tr>\n",
       "      <th>59</th>\n",
       "      <td>0</td>\n",
       "      <td>id_21</td>\n",
       "    </tr>\n",
       "    <tr>\n",
       "      <th>58</th>\n",
       "      <td>0</td>\n",
       "      <td>V98</td>\n",
       "    </tr>\n",
       "    <tr>\n",
       "      <th>57</th>\n",
       "      <td>0</td>\n",
       "      <td>V93</td>\n",
       "    </tr>\n",
       "    <tr>\n",
       "      <th>56</th>\n",
       "      <td>0</td>\n",
       "      <td>V89</td>\n",
       "    </tr>\n",
       "    <tr>\n",
       "      <th>55</th>\n",
       "      <td>0</td>\n",
       "      <td>V43</td>\n",
       "    </tr>\n",
       "    <tr>\n",
       "      <th>54</th>\n",
       "      <td>0</td>\n",
       "      <td>V41</td>\n",
       "    </tr>\n",
       "    <tr>\n",
       "      <th>53</th>\n",
       "      <td>0</td>\n",
       "      <td>V338</td>\n",
       "    </tr>\n",
       "    <tr>\n",
       "      <th>52</th>\n",
       "      <td>0</td>\n",
       "      <td>V337</td>\n",
       "    </tr>\n",
       "    <tr>\n",
       "      <th>51</th>\n",
       "      <td>0</td>\n",
       "      <td>V334</td>\n",
       "    </tr>\n",
       "    <tr>\n",
       "      <th>50</th>\n",
       "      <td>0</td>\n",
       "      <td>V333</td>\n",
       "    </tr>\n",
       "    <tr>\n",
       "      <th>49</th>\n",
       "      <td>0</td>\n",
       "      <td>V331</td>\n",
       "    </tr>\n",
       "    <tr>\n",
       "      <th>48</th>\n",
       "      <td>0</td>\n",
       "      <td>V330</td>\n",
       "    </tr>\n",
       "    <tr>\n",
       "      <th>47</th>\n",
       "      <td>0</td>\n",
       "      <td>V325</td>\n",
       "    </tr>\n",
       "    <tr>\n",
       "      <th>46</th>\n",
       "      <td>0</td>\n",
       "      <td>V319</td>\n",
       "    </tr>\n",
       "    <tr>\n",
       "      <th>45</th>\n",
       "      <td>0</td>\n",
       "      <td>V305</td>\n",
       "    </tr>\n",
       "    <tr>\n",
       "      <th>44</th>\n",
       "      <td>0</td>\n",
       "      <td>V302</td>\n",
       "    </tr>\n",
       "    <tr>\n",
       "      <th>43</th>\n",
       "      <td>0</td>\n",
       "      <td>V299</td>\n",
       "    </tr>\n",
       "    <tr>\n",
       "      <th>42</th>\n",
       "      <td>0</td>\n",
       "      <td>V297</td>\n",
       "    </tr>\n",
       "    <tr>\n",
       "      <th>41</th>\n",
       "      <td>0</td>\n",
       "      <td>V28</td>\n",
       "    </tr>\n",
       "    <tr>\n",
       "      <th>40</th>\n",
       "      <td>0</td>\n",
       "      <td>V269</td>\n",
       "    </tr>\n",
       "    <tr>\n",
       "      <th>39</th>\n",
       "      <td>0</td>\n",
       "      <td>V252</td>\n",
       "    </tr>\n",
       "    <tr>\n",
       "      <th>38</th>\n",
       "      <td>0</td>\n",
       "      <td>V246</td>\n",
       "    </tr>\n",
       "    <tr>\n",
       "      <th>37</th>\n",
       "      <td>0</td>\n",
       "      <td>V242</td>\n",
       "    </tr>\n",
       "    <tr>\n",
       "      <th>36</th>\n",
       "      <td>0</td>\n",
       "      <td>V241</td>\n",
       "    </tr>\n",
       "    <tr>\n",
       "      <th>0</th>\n",
       "      <td>0</td>\n",
       "      <td>V107</td>\n",
       "    </tr>\n",
       "  </tbody>\n",
       "</table>\n",
       "<p>459 rows × 2 columns</p>\n",
       "</div>"
      ],
      "text/plain": [
       "     Value                              Feature\n",
       "458   2229                                   D3\n",
       "457   1484                                   D5\n",
       "456   1138                                  D10\n",
       "455    905                                   D4\n",
       "454    850                                   D2\n",
       "453    812                                  D11\n",
       "452    727                                   D1\n",
       "451    466                                 V310\n",
       "450    380                                  C13\n",
       "449    335                                  C11\n",
       "448    294                                 mean\n",
       "447    225  TransactionAmt_ProductCD_count_full\n",
       "446    215               TransactionAmt_decimal\n",
       "445    198                     id_30_count_full\n",
       "444    197                                   C9\n",
       "443    179                     id_19_count_full\n",
       "442    170                                   C1\n",
       "441    165                        address_match\n",
       "440    143                                   C2\n",
       "439    141            card2_TransactionAmt_mean\n",
       "438    139             card5_TransactionAmt_std\n",
       "437    139                                   D6\n",
       "436    136                                  D14\n",
       "435    129                                   C6\n",
       "434    121                                card2\n",
       "433    116              uid_TransactionAmt_mean\n",
       "432    116                                 V317\n",
       "431    115                                  C10\n",
       "430    113                                  D12\n",
       "429    108                                 V283\n",
       "..     ...                                  ...\n",
       "64       0                     id_27_count_full\n",
       "63       0                     id_24_count_full\n",
       "62       0                     id_23_count_full\n",
       "61       0                                id_23\n",
       "60       0                     id_22_count_full\n",
       "59       0                                id_21\n",
       "58       0                                  V98\n",
       "57       0                                  V93\n",
       "56       0                                  V89\n",
       "55       0                                  V43\n",
       "54       0                                  V41\n",
       "53       0                                 V338\n",
       "52       0                                 V337\n",
       "51       0                                 V334\n",
       "50       0                                 V333\n",
       "49       0                                 V331\n",
       "48       0                                 V330\n",
       "47       0                                 V325\n",
       "46       0                                 V319\n",
       "45       0                                 V305\n",
       "44       0                                 V302\n",
       "43       0                                 V299\n",
       "42       0                                 V297\n",
       "41       0                                  V28\n",
       "40       0                                 V269\n",
       "39       0                                 V252\n",
       "38       0                                 V246\n",
       "37       0                                 V242\n",
       "36       0                                 V241\n",
       "0        0                                 V107\n",
       "\n",
       "[459 rows x 2 columns]"
      ]
     },
     "execution_count": 55,
     "metadata": {},
     "output_type": "execute_result"
    }
   ],
   "source": [
    "feature_imp.sort_values(by='Value',ascending=False)"
   ]
  },
  {
   "cell_type": "code",
   "execution_count": 39,
   "metadata": {},
   "outputs": [],
   "source": [
    "feature_imp.sort_values(by='Value',ascending=False).to_csv(\"importance.csv\",index=False)"
   ]
  },
  {
   "cell_type": "raw",
   "metadata": {},
   "source": [
    "[50]\ttraining's auc: 0.902212\tvalid_1's auc: 0.898457\n",
    "[50]\ttraining's auc: 0.900687\tvalid_1's auc: 0.896933\n",
    "[34]\ttraining's auc: 0.899235\tvalid_1's auc: 0.89535\n",
    "[41]\ttraining's auc: 0.901351\tvalid_1's auc: 0.897481\n"
   ]
  },
  {
   "cell_type": "markdown",
   "metadata": {},
   "source": [
    "## RandomForestClassifier - Covariate Shift"
   ]
  },
  {
   "cell_type": "raw",
   "metadata": {},
   "source": [
    "from lightgbm import LGBMClassifier\n",
    "from sklearn.ensemble import RandomForestClassifier\n",
    "from sklearn.model_selection import cross_val_score\n",
    "import warnings\n",
    "warnings.filterwarnings(\"ignore\")\n",
    "\n",
    "train = train_df[features]\n",
    "test = test_df[features]\n",
    "\n",
    "train['origin'] = 0\n",
    "test['origin'] = 1\n",
    "\n",
    "train = train.fillna(-999)\n",
    "test = test.fillna(-999)\n",
    "\n",
    "# Create a random index to extract random train and test samples\n",
    "training = train.sample(100000, random_state=12)\n",
    "testing = test.sample(100000, random_state=11)\n",
    "\n",
    "## Combine random samples\n",
    "combi = training.append(testing)\n",
    "y = combi['origin']\n",
    "combi.drop('origin',axis=1,inplace=True)\n",
    "\n",
    "## Modelling\n",
    "model = RandomForestClassifier(n_estimators = 50, max_depth = 5,min_samples_leaf = 5)\n",
    "\n",
    "all_scores = []\n",
    "drop_list = []\n",
    "score_list =[]\n",
    "temp = -1\n",
    "\n",
    "for i in combi.columns:\n",
    "    temp +=1\n",
    "    score = cross_val_score(model,pd.DataFrame(combi[i]),y,cv=2,scoring='roc_auc')\n",
    "    if (np.mean(score) > 0.8):\n",
    "        drop_list.append(i)\n",
    "        score_list.append(np.mean(score))\n",
    "    all_scores.append(np.mean(score))    \n",
    "    print('Checking feature no {} out of {}'.format(temp, train.shape[1]))\n",
    "    print(i,np.mean(score))"
   ]
  },
  {
   "cell_type": "raw",
   "metadata": {
    "scrolled": true
   },
   "source": [
    "#Print Top 20 features with possible covariate shift\n",
    "scores_df = pd.DataFrame({'feature':combi.columns, \n",
    "                          'score': all_scores})\n",
    "\n",
    "scores_df = scores_df.sort_values(by = 'score', ascending = False)\n",
    "scores_df.head(20)"
   ]
  },
  {
   "cell_type": "markdown",
   "metadata": {},
   "source": [
    "## LightGBM - 8 : 2 Split "
   ]
  },
  {
   "cell_type": "code",
   "execution_count": 56,
   "metadata": {},
   "outputs": [],
   "source": [
    "from sklearn.model_selection import KFold, StratifiedKFold, TimeSeriesSplit\n",
    "from sklearn.metrics import roc_auc_score\n",
    "import lightgbm as lgb"
   ]
  },
  {
   "cell_type": "code",
   "execution_count": 57,
   "metadata": {},
   "outputs": [],
   "source": [
    "params = {'num_leaves': 491,\n",
    "          'min_child_weight': 0.03454472573214212,\n",
    "          'feature_fraction': 0.3797454081646243,\n",
    "          'bagging_fraction': 0.4181193142567742,\n",
    "          'min_data_in_leaf': 106,\n",
    "          'objective': 'binary',\n",
    "          'max_depth': -1,\n",
    "          'learning_rate': 0.006883242363721497,\n",
    "          \"boosting_type\": \"gbdt\",\n",
    "          \"bagging_seed\": 11,\n",
    "          \"metric\": 'auc',\n",
    "          \"verbosity\": -1,\n",
    "          'reg_alpha': 0.3899927210061127,\n",
    "          'reg_lambda': 0.6485237330340494,\n",
    "          'random_state': 47\n",
    "         }"
   ]
  },
  {
   "cell_type": "code",
   "execution_count": 58,
   "metadata": {},
   "outputs": [],
   "source": [
    "y = train_df['isFraud']\n",
    "X = train_df[features].reset_index(drop=True)\n",
    "\n",
    "test = test_df[features].reset_index(drop=True)"
   ]
  },
  {
   "cell_type": "code",
   "execution_count": null,
   "metadata": {
    "scrolled": true
   },
   "outputs": [
    {
     "name": "stdout",
     "output_type": "stream",
     "text": [
      "Training on fold 1\n",
      "Training until validation scores don't improve for 100 rounds.\n",
      "[100]\ttraining's auc: 0.97258\tvalid_1's auc: 0.887261\n",
      "[200]\ttraining's auc: 0.985561\tvalid_1's auc: 0.893097\n",
      "[300]\ttraining's auc: 0.993739\tvalid_1's auc: 0.898844\n",
      "[400]\ttraining's auc: 0.997682\tvalid_1's auc: 0.902965\n",
      "[500]\ttraining's auc: 0.99923\tvalid_1's auc: 0.906518\n",
      "[600]\ttraining's auc: 0.999761\tvalid_1's auc: 0.907997\n",
      "[700]\ttraining's auc: 0.999926\tvalid_1's auc: 0.908808\n",
      "[800]\ttraining's auc: 0.999977\tvalid_1's auc: 0.909341\n",
      "[900]\ttraining's auc: 0.999993\tvalid_1's auc: 0.909447\n",
      "[1000]\ttraining's auc: 0.999998\tvalid_1's auc: 0.909532\n",
      "[1100]\ttraining's auc: 0.999999\tvalid_1's auc: 0.909692\n",
      "[1200]\ttraining's auc: 1\tvalid_1's auc: 0.909627\n",
      "Early stopping, best iteration is:\n",
      "[1142]\ttraining's auc: 1\tvalid_1's auc: 0.909801\n",
      "Fold 1 finished in 0:01:17.901159\n",
      "Training on fold 2\n",
      "Training until validation scores don't improve for 100 rounds.\n",
      "[100]\ttraining's auc: 0.974677\tvalid_1's auc: 0.910949\n",
      "[200]\ttraining's auc: 0.98523\tvalid_1's auc: 0.917065\n",
      "[300]\ttraining's auc: 0.992209\tvalid_1's auc: 0.922465\n",
      "[400]\ttraining's auc: 0.996343\tvalid_1's auc: 0.926233\n",
      "[500]\ttraining's auc: 0.998405\tvalid_1's auc: 0.928695\n",
      "[600]\ttraining's auc: 0.999335\tvalid_1's auc: 0.929934\n",
      "[700]\ttraining's auc: 0.999728\tvalid_1's auc: 0.930357\n",
      "[800]\ttraining's auc: 0.999891\tvalid_1's auc: 0.930277\n",
      "Early stopping, best iteration is:\n",
      "[708]\ttraining's auc: 0.999748\tvalid_1's auc: 0.930385\n",
      "Fold 2 finished in 0:01:52.095703\n",
      "Training on fold 3\n",
      "Training until validation scores don't improve for 100 rounds.\n",
      "[100]\ttraining's auc: 0.964973\tvalid_1's auc: 0.901139\n",
      "[200]\ttraining's auc: 0.97549\tvalid_1's auc: 0.908458\n",
      "[300]\ttraining's auc: 0.984264\tvalid_1's auc: 0.914516\n",
      "[400]\ttraining's auc: 0.990697\tvalid_1's auc: 0.918639\n",
      "[500]\ttraining's auc: 0.994803\tvalid_1's auc: 0.921584\n",
      "[600]\ttraining's auc: 0.997142\tvalid_1's auc: 0.923109\n"
     ]
    }
   ],
   "source": [
    "from time import time\n",
    "folds = TimeSeriesSplit(n_splits=5)\n",
    "\n",
    "aucs = list()\n",
    "feature_importances = pd.DataFrame()\n",
    "feature_importances['feature'] = X.columns\n",
    "\n",
    "training_start_time = time()\n",
    "for fold, (trn_idx, test_idx) in enumerate(folds.split(X, y)):\n",
    "    start_time = time()\n",
    "    print('Training on fold {}'.format(fold + 1))\n",
    "    \n",
    "    trn_data = lgb.Dataset(X.iloc[trn_idx], label=y.iloc[trn_idx])\n",
    "    val_data = lgb.Dataset(X.iloc[test_idx], label=y.iloc[test_idx])\n",
    "    clf = lgb.train(params, trn_data, 10000, valid_sets = [trn_data, val_data], verbose_eval=100, early_stopping_rounds=100)\n",
    "    \n",
    "    feature_importances['fold_{}'.format(fold + 1)] = clf.feature_importance()\n",
    "    aucs.append(clf.best_score['valid_1']['auc'])\n",
    "    \n",
    "    print('Fold {} finished in {}'.format(fold + 1, str(datetime.timedelta(seconds=time() - start_time))))\n",
    "print('-' * 30)\n",
    "print('Training has finished.')\n",
    "print('Total training time is {}'.format(str(datetime.timedelta(seconds=time() - training_start_time))))\n",
    "print('Mean AUC:', np.mean(aucs))\n",
    "print('-' * 30)"
   ]
  },
  {
   "cell_type": "code",
   "execution_count": null,
   "metadata": {},
   "outputs": [],
   "source": [
    "feature_importances['average'] = feature_importances[['fold_{}'.format(fold + 1) for fold in range(folds.n_splits)]].mean(axis=1)\n",
    "feature_importances.to_csv('feature_importances.csv')\n",
    "\n",
    "plt.figure(figsize=(16, 16))\n",
    "sns.barplot(data=feature_importances.sort_values(by='average', ascending=False).head(50), x='average', y='feature');\n",
    "plt.title('50 TOP feature importance over {} folds average'.format(folds.n_splits));"
   ]
  },
  {
   "cell_type": "code",
   "execution_count": null,
   "metadata": {},
   "outputs": [],
   "source": [
    "feature_importances.sort_values(by='average',ascending=False)"
   ]
  },
  {
   "cell_type": "code",
   "execution_count": null,
   "metadata": {
    "scrolled": true
   },
   "outputs": [],
   "source": [
    "best_iter = clf.best_iteration\n",
    "clf = lgb.LGBMClassifier(**params, num_boost_round=best_iter)\n",
    "clf.fit(X, y)"
   ]
  },
  {
   "cell_type": "code",
   "execution_count": null,
   "metadata": {},
   "outputs": [],
   "source": [
    "sub = pd.read_csv(\"./input/sample_submission.csv\")\n",
    "sub['isFraud'] = clf.predict_proba(test)[:, 1]\n",
    "sub.to_csv('Baseline_v32.csv', index=False)"
   ]
  },
  {
   "cell_type": "raw",
   "metadata": {},
   "source": [
    "Training on fold 1\n",
    "Training until validation scores don't improve for 100 rounds.\n",
    "[100]\ttraining's auc: 0.971456\tvalid_1's auc: 0.886879\n",
    "[200]\ttraining's auc: 0.984606\tvalid_1's auc: 0.892136\n",
    "[300]\ttraining's auc: 0.993137\tvalid_1's auc: 0.897927\n",
    "[400]\ttraining's auc: 0.997448\tvalid_1's auc: 0.902319\n",
    "[500]\ttraining's auc: 0.999131\tvalid_1's auc: 0.905634\n",
    "[600]\ttraining's auc: 0.999724\tvalid_1's auc: 0.907437\n",
    "[700]\ttraining's auc: 0.999916\tvalid_1's auc: 0.90805\n",
    "[800]\ttraining's auc: 0.999975\tvalid_1's auc: 0.908453\n",
    "[900]\ttraining's auc: 0.999992\tvalid_1's auc: 0.908646\n",
    "[1000]\ttraining's auc: 0.999998\tvalid_1's auc: 0.908739\n",
    "[1100]\ttraining's auc: 0.999999\tvalid_1's auc: 0.908827\n",
    "[1200]\ttraining's auc: 1\tvalid_1's auc: 0.908853\n",
    "[1300]\ttraining's auc: 1\tvalid_1's auc: 0.908901\n",
    "Early stopping, best iteration is:\n",
    "[1237]\ttraining's auc: 1\tvalid_1's auc: 0.908927\n",
    "Fold 1 finished in 0:01:20.166224\n",
    "Training on fold 2\n",
    "Training until validation scores don't improve for 100 rounds.\n",
    "[100]\ttraining's auc: 0.9735\tvalid_1's auc: 0.909564\n",
    "[200]\ttraining's auc: 0.984369\tvalid_1's auc: 0.914889\n",
    "[300]\ttraining's auc: 0.991687\tvalid_1's auc: 0.92066\n",
    "[400]\ttraining's auc: 0.996003\tvalid_1's auc: 0.924373\n",
    "[500]\ttraining's auc: 0.998204\tvalid_1's auc: 0.926648\n",
    "[600]\ttraining's auc: 0.999234\tvalid_1's auc: 0.927891\n",
    "[700]\ttraining's auc: 0.999676\tvalid_1's auc: 0.928456\n",
    "[800]\ttraining's auc: 0.999867\tvalid_1's auc: 0.928605\n",
    "[900]\ttraining's auc: 0.999946\tvalid_1's auc: 0.928479\n",
    "Early stopping, best iteration is:\n",
    "[833]\ttraining's auc: 0.999901\tvalid_1's auc: 0.928689\n",
    "Fold 2 finished in 0:02:06.099129\n",
    "Training on fold 3\n",
    "Training until validation scores don't improve for 100 rounds.\n",
    "[100]\ttraining's auc: 0.963484\tvalid_1's auc: 0.899981\n",
    "[200]\ttraining's auc: 0.974548\tvalid_1's auc: 0.90741\n",
    "[300]\ttraining's auc: 0.983472\tvalid_1's auc: 0.913031\n",
    "[400]\ttraining's auc: 0.989927\tvalid_1's auc: 0.917445\n",
    "[500]\ttraining's auc: 0.994294\tvalid_1's auc: 0.919935\n",
    "[600]\ttraining's auc: 0.996796\tvalid_1's auc: 0.921561\n",
    "[700]\ttraining's auc: 0.998262\tvalid_1's auc: 0.922242\n",
    "[800]\ttraining's auc: 0.999085\tvalid_1's auc: 0.922543\n",
    "[900]\ttraining's auc: 0.999518\tvalid_1's auc: 0.922502\n",
    "Early stopping, best iteration is:\n",
    "[847]\ttraining's auc: 0.999326\tvalid_1's auc: 0.922634\n",
    "Fold 3 finished in 0:03:14.470537\n",
    "Training on fold 4\n",
    "Training until validation scores don't improve for 100 rounds.\n",
    "[100]\ttraining's auc: 0.952735\tvalid_1's auc: 0.907806\n",
    "[200]\ttraining's auc: 0.964748\tvalid_1's auc: 0.91606\n",
    "[300]\ttraining's auc: 0.97489\tvalid_1's auc: 0.922562\n",
    "[400]\ttraining's auc: 0.983084\tvalid_1's auc: 0.927819\n",
    "[500]\ttraining's auc: 0.988946\tvalid_1's auc: 0.932111\n",
    "[600]\ttraining's auc: 0.992825\tvalid_1's auc: 0.93509\n",
    "[700]\ttraining's auc: 0.995397\tvalid_1's auc: 0.936742\n",
    "[800]\ttraining's auc: 0.997104\tvalid_1's auc: 0.937698\n",
    "[900]\ttraining's auc: 0.998157\tvalid_1's auc: 0.938313\n",
    "[1000]\ttraining's auc: 0.998836\tvalid_1's auc: 0.938466\n",
    "[1100]\ttraining's auc: 0.999264\tvalid_1's auc: 0.938496\n",
    "Early stopping, best iteration is:\n",
    "[1022]\ttraining's auc: 0.998954\tvalid_1's auc: 0.938576\n",
    "Fold 4 finished in 0:05:03.840530\n",
    "Training on fold 5\n",
    "Training until validation scores don't improve for 100 rounds.\n",
    "[100]\ttraining's auc: 0.946901\tvalid_1's auc: 0.90229\n",
    "[200]\ttraining's auc: 0.959177\tvalid_1's auc: 0.910976\n",
    "[300]\ttraining's auc: 0.97008\tvalid_1's auc: 0.918976\n",
    "[400]\ttraining's auc: 0.978592\tvalid_1's auc: 0.925135\n",
    "[500]\ttraining's auc: 0.985049\tvalid_1's auc: 0.929519\n",
    "[600]\ttraining's auc: 0.989557\tvalid_1's auc: 0.932625\n",
    "[700]\ttraining's auc: 0.992814\tvalid_1's auc: 0.934622\n",
    "[800]\ttraining's auc: 0.99508\tvalid_1's auc: 0.935758\n",
    "[900]\ttraining's auc: 0.9966\tvalid_1's auc: 0.936354\n",
    "[1000]\ttraining's auc: 0.997652\tvalid_1's auc: 0.936775\n",
    "[1100]\ttraining's auc: 0.998363\tvalid_1's auc: 0.937064\n",
    "[1200]\ttraining's auc: 0.998854\tvalid_1's auc: 0.937259\n",
    "[1300]\ttraining's auc: 0.999184\tvalid_1's auc: 0.937532\n",
    "[1400]\ttraining's auc: 0.999413\tvalid_1's auc: 0.937526\n",
    "Early stopping, best iteration is:\n",
    "[1361]\ttraining's auc: 0.999335\tvalid_1's auc: 0.937566\n",
    "Fold 5 finished in 0:08:20.150742\n",
    "------------------------------\n",
    "Training has finished.\n",
    "Total training time is 0:20:04.737135\n",
    "Mean AUC: 0.9272783976666481\n",
    "------------------------------"
   ]
  }
 ],
 "metadata": {
  "kernelspec": {
   "display_name": "Python 3",
   "language": "python",
   "name": "python3"
  },
  "language_info": {
   "codemirror_mode": {
    "name": "ipython",
    "version": 3
   },
   "file_extension": ".py",
   "mimetype": "text/x-python",
   "name": "python",
   "nbconvert_exporter": "python",
   "pygments_lexer": "ipython3",
   "version": "3.6.8"
  }
 },
 "nbformat": 4,
 "nbformat_minor": 2
}
